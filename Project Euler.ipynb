{
 "metadata": {
  "name": "",
  "signature": "sha256:216dd59df0aeff9215829508ed4da3521d46d24e09d5fdd8dbe47c875c74af42"
 },
 "nbformat": 3,
 "nbformat_minor": 0,
 "worksheets": [
  {
   "cells": [
    {
     "cell_type": "code",
     "collapsed": false,
     "input": [
      "from IPython import parallel\n",
      "client = parallel.Client(profile='notebook')\n",
      "client.activate()\n",
      "rc = client[:]"
     ],
     "language": "python",
     "metadata": {},
     "outputs": [
      {
       "ename": "IOError",
       "evalue": "[Errno 2] No such file or directory: u'/home/freegnu/.ipython/profile_notebook/security/ipcontroller-client.json'",
       "output_type": "pyerr",
       "traceback": [
        "\u001b[1;31m---------------------------------------------------------------------------\u001b[0m\n\u001b[1;31mIOError\u001b[0m                                   Traceback (most recent call last)",
        "\u001b[1;32m<ipython-input-10-55485ea9d1a0>\u001b[0m in \u001b[0;36m<module>\u001b[1;34m()\u001b[0m\n\u001b[0;32m      1\u001b[0m \u001b[1;32mfrom\u001b[0m \u001b[0mIPython\u001b[0m \u001b[1;32mimport\u001b[0m \u001b[0mparallel\u001b[0m\u001b[1;33m\u001b[0m\u001b[0m\n\u001b[1;32m----> 2\u001b[1;33m \u001b[0mclient\u001b[0m \u001b[1;33m=\u001b[0m \u001b[0mparallel\u001b[0m\u001b[1;33m.\u001b[0m\u001b[0mClient\u001b[0m\u001b[1;33m(\u001b[0m\u001b[0mprofile\u001b[0m\u001b[1;33m=\u001b[0m\u001b[1;34m'notebook'\u001b[0m\u001b[1;33m)\u001b[0m\u001b[1;33m\u001b[0m\u001b[0m\n\u001b[0m\u001b[0;32m      3\u001b[0m \u001b[0mclient\u001b[0m\u001b[1;33m.\u001b[0m\u001b[0mactivate\u001b[0m\u001b[1;33m(\u001b[0m\u001b[1;33m)\u001b[0m\u001b[1;33m\u001b[0m\u001b[0m\n\u001b[0;32m      4\u001b[0m \u001b[0mrc\u001b[0m \u001b[1;33m=\u001b[0m \u001b[0mclient\u001b[0m\u001b[1;33m[\u001b[0m\u001b[1;33m:\u001b[0m\u001b[1;33m]\u001b[0m\u001b[1;33m\u001b[0m\u001b[0m\n",
        "\u001b[1;32m/home/freegnu/env/freegnu/local/lib/python2.7/site-packages/IPython/parallel/client/client.pyc\u001b[0m in \u001b[0;36m__init__\u001b[1;34m(self, url_file, profile, profile_dir, ipython_dir, context, debug, sshserver, sshkey, password, paramiko, timeout, cluster_id, **extra_args)\u001b[0m\n\u001b[0;32m    409\u001b[0m             )\n\u001b[0;32m    410\u001b[0m \u001b[1;33m\u001b[0m\u001b[0m\n\u001b[1;32m--> 411\u001b[1;33m         \u001b[1;32mwith\u001b[0m \u001b[0mopen\u001b[0m\u001b[1;33m(\u001b[0m\u001b[0murl_file\u001b[0m\u001b[1;33m)\u001b[0m \u001b[1;32mas\u001b[0m \u001b[0mf\u001b[0m\u001b[1;33m:\u001b[0m\u001b[1;33m\u001b[0m\u001b[0m\n\u001b[0m\u001b[0;32m    412\u001b[0m             \u001b[0mcfg\u001b[0m \u001b[1;33m=\u001b[0m \u001b[0mjson\u001b[0m\u001b[1;33m.\u001b[0m\u001b[0mload\u001b[0m\u001b[1;33m(\u001b[0m\u001b[0mf\u001b[0m\u001b[1;33m)\u001b[0m\u001b[1;33m\u001b[0m\u001b[0m\n\u001b[0;32m    413\u001b[0m \u001b[1;33m\u001b[0m\u001b[0m\n",
        "\u001b[1;31mIOError\u001b[0m: [Errno 2] No such file or directory: u'/home/freegnu/.ipython/profile_notebook/security/ipcontroller-client.json'"
       ]
      }
     ],
     "prompt_number": 10
    },
    {
     "cell_type": "code",
     "collapsed": false,
     "input": [
      "with rc.sync_imports():\n",
      "    import collections\n",
      "    import datetime\n",
      "    import decimal\n",
      "    import fractions\n",
      "    import functools\n",
      "    import itertools\n",
      "    import logging\n",
      "    import math\n",
      "    import multiprocessing\n",
      "    import operator\n",
      "    import os\n",
      "    import pprint\n",
      "    import random\n",
      "    import threading\n",
      "    import time\n",
      "    #import numba\n",
      "    import numpy\n",
      "    import pandas"
     ],
     "language": "python",
     "metadata": {},
     "outputs": [],
     "prompt_number": 151
    },
    {
     "cell_type": "code",
     "collapsed": false,
     "input": [
      "import collections\n",
      "import datetime\n",
      "import decimal\n",
      "import fractions\n",
      "import functools\n",
      "import itertools\n",
      "import logging\n",
      "import math\n",
      "import multiprocessing\n",
      "import operator\n",
      "import os\n",
      "import pprint\n",
      "import random\n",
      "import threading\n",
      "import time\n",
      "#import numba\n",
      "import numpy\n",
      "#import pandas"
     ],
     "language": "python",
     "metadata": {},
     "outputs": [],
     "prompt_number": 12
    },
    {
     "cell_type": "code",
     "collapsed": true,
     "input": [
      "#client.ids"
     ],
     "language": "python",
     "metadata": {},
     "outputs": [],
     "prompt_number": 9
    },
    {
     "cell_type": "markdown",
     "metadata": {},
     "source": [
      "####Problem15\n",
      "\n",
      "Starting in the top left corner of a 2\u00d72 grid, and only being able to move to the right and down, there are exactly 6 routes to the bottom right corner.\n",
      "\n",
      "\n",
      "How many such routes are there through a 20\u00d720 grid?"
     ]
    },
    {
     "cell_type": "code",
     "collapsed": false,
     "input": [
      "def pt_row(n):\n",
      "    if n == 0: return [1]\n",
      "    row = map(fractions.Fraction,range(n,0,-1),range(1,n+1))[:(n/2)]\n",
      "    row = [int(reduce(operator.mul,row[:i])) for i in range(1,len(row)+1)]\n",
      "    return [1] + row + row[-1 if n%2 else -2::-1] + [1]\n",
      "def pt(n):\n",
      "    if n == 0: return [[1]]\n",
      "    t = pt(n-1)\n",
      "    u = [0] + t[-1] + [0]\n",
      "    return t + [[u[i]+u[i+1] for i in range(n+1)]]\n",
      "def right_down(n,xy=None):\n",
      "    if not hasattr(right_down,'cache'):\n",
      "        right_down.cache = {(0,0):1,(0,1):1,(1,0):1,(1,1):2}\n",
      "    if xy is None:\n",
      "        if (n,n) in right_down.cache: return right_down.cache[(n,n)]\n",
      "        if n > 1:\n",
      "            right_down(n-1)\n",
      "            right_down.cache[(n,n)] = right_down(n,(n-1,n)) + right_down(n,(n,n-1))\n",
      "            return right_down.cache[(n,n)]\n",
      "    if n == 0: return 1\n",
      "    if n == 1: return 2\n",
      "    if n > 1:\n",
      "        if xy in right_down.cache: return right_down.cache[xy]\n",
      "        if xy[::-1] in right_down.cache:\n",
      "            right_down.cache[xy] = right_down.cache[xy[::-1]]\n",
      "            return right_down.cache[xy]\n",
      "        if xy[0] > 0 < xy[1]:\n",
      "            right_down.cache[xy] = right_down(n,(xy[0]-1,xy[1])) + right_down(n,(xy[0],xy[1]-1))\n",
      "            return right_down.cache[xy]\n",
      "        if xy[0] > 0:\n",
      "            right_down.cache[xy] = right_down(n,(xy[0]-1,xy[1]))\n",
      "            return right_down.cache[xy]\n",
      "        if xy[1] > 0:\n",
      "            right_down.cache[xy] = right_down(n,(xy[0],xy[1]-1))\n",
      "            return right_down.cache[xy]"
     ],
     "language": "python",
     "metadata": {},
     "outputs": [],
     "prompt_number": 10
    },
    {
     "cell_type": "code",
     "collapsed": false,
     "input": [
      "right_down(20)"
     ],
     "language": "python",
     "metadata": {},
     "outputs": [
      {
       "metadata": {},
       "output_type": "pyout",
       "prompt_number": 14,
       "text": [
        "137846528820"
       ]
      }
     ],
     "prompt_number": 14
    },
    {
     "cell_type": "markdown",
     "metadata": {},
     "source": [
      "####Problem 14\n",
      "\n",
      "The following iterative sequence is defined for the set of positive integers:\n",
      "\n",
      "n \u2192 n/2 (n is even)\n",
      "n \u2192 3n + 1 (n is odd)\n",
      "\n",
      "Using the rule above and starting with 13, we generate the following sequence:\n",
      "\n",
      "13 \u2192 40 \u2192 20 \u2192 10 \u2192 5 \u2192 16 \u2192 8 \u2192 4 \u2192 2 \u2192 1\n",
      "It can be seen that this sequence (starting at 13 and finishing at 1) contains 10 terms. Although it has not been proved yet (Collatz Problem), it is thought that all starting numbers finish at 1.\n",
      "\n",
      "Which starting number, under one million, produces the longest chain?\n",
      "\n",
      "NOTE: Once the chain starts the terms are allowed to go above one million."
     ]
    },
    {
     "cell_type": "code",
     "collapsed": false,
     "input": [
      "def collatz(n):\n",
      "    if not hasattr(collatz,'cache'):\n",
      "        collatz.cache = collections.defaultdict(list)\n",
      "        collatz.cache[1] += [1]\n",
      "    if collatz.cache[n]: return collatz.cache[n]\n",
      "    collatz.cache[n] = [n] + collatz(((3*n)+1) if n%2 else (n/2))\n",
      "    return collatz.cache[n]\n",
      "collatz.cache = collections.defaultdict(list)\n",
      "collatz.cache[1] += [1]\n",
      "rc.push({'collatz':collatz})"
     ],
     "language": "python",
     "metadata": {},
     "outputs": [
      {
       "metadata": {},
       "output_type": "pyout",
       "prompt_number": 23,
       "text": [
        "<AsyncResult: _push>"
       ]
      }
     ],
     "prompt_number": 23
    },
    {
     "cell_type": "code",
     "collapsed": false,
     "input": [
      "collatz(100)"
     ],
     "language": "python",
     "metadata": {},
     "outputs": [
      {
       "metadata": {},
       "output_type": "pyout",
       "prompt_number": 25,
       "text": [
        "[100,\n",
        " 50,\n",
        " 25,\n",
        " 76,\n",
        " 38,\n",
        " 19,\n",
        " 58,\n",
        " 29,\n",
        " 88,\n",
        " 44,\n",
        " 22,\n",
        " 11,\n",
        " 34,\n",
        " 17,\n",
        " 52,\n",
        " 26,\n",
        " 13,\n",
        " 40,\n",
        " 20,\n",
        " 10,\n",
        " 5,\n",
        " 16,\n",
        " 8,\n",
        " 4,\n",
        " 2,\n",
        " 1]"
       ]
      }
     ],
     "prompt_number": 25
    },
    {
     "cell_type": "code",
     "collapsed": false,
     "input": [
      "collatz_result = rc.map(collatz,range(1000000,1,-1),block=True)"
     ],
     "language": "python",
     "metadata": {},
     "outputs": [],
     "prompt_number": 33
    },
    {
     "cell_type": "code",
     "collapsed": false,
     "input": [
      "collatz_max = max(collatz_result,key=len)\n",
      "collatz_max[0],len(collatz_result)"
     ],
     "language": "python",
     "metadata": {},
     "outputs": [
      {
       "metadata": {},
       "output_type": "pyout",
       "prompt_number": 34,
       "text": [
        "(837799, 999999)"
       ]
      }
     ],
     "prompt_number": 34
    },
    {
     "cell_type": "markdown",
     "metadata": {},
     "source": [
      "#### Problem 13\n",
      "\n",
      "Work out the first ten digits of the sum of the following one-hundred 50-digit numbers.\n",
      "<pre>\n",
      "37107287533902102798797998220837590246510135740250\n",
      "46376937677490009712648124896970078050417018260538\n",
      "74324986199524741059474233309513058123726617309629\n",
      "91942213363574161572522430563301811072406154908250\n",
      "23067588207539346171171980310421047513778063246676\n",
      "89261670696623633820136378418383684178734361726757\n",
      "28112879812849979408065481931592621691275889832738\n",
      "44274228917432520321923589422876796487670272189318\n",
      "47451445736001306439091167216856844588711603153276\n",
      "70386486105843025439939619828917593665686757934951\n",
      "62176457141856560629502157223196586755079324193331\n",
      "64906352462741904929101432445813822663347944758178\n",
      "92575867718337217661963751590579239728245598838407\n",
      "58203565325359399008402633568948830189458628227828\n",
      "80181199384826282014278194139940567587151170094390\n",
      "35398664372827112653829987240784473053190104293586\n",
      "86515506006295864861532075273371959191420517255829\n",
      "71693888707715466499115593487603532921714970056938\n",
      "54370070576826684624621495650076471787294438377604\n",
      "53282654108756828443191190634694037855217779295145\n",
      "36123272525000296071075082563815656710885258350721\n",
      "45876576172410976447339110607218265236877223636045\n",
      "17423706905851860660448207621209813287860733969412\n",
      "81142660418086830619328460811191061556940512689692\n",
      "51934325451728388641918047049293215058642563049483\n",
      "62467221648435076201727918039944693004732956340691\n",
      "15732444386908125794514089057706229429197107928209\n",
      "55037687525678773091862540744969844508330393682126\n",
      "18336384825330154686196124348767681297534375946515\n",
      "80386287592878490201521685554828717201219257766954\n",
      "78182833757993103614740356856449095527097864797581\n",
      "16726320100436897842553539920931837441497806860984\n",
      "48403098129077791799088218795327364475675590848030\n",
      "87086987551392711854517078544161852424320693150332\n",
      "59959406895756536782107074926966537676326235447210\n",
      "69793950679652694742597709739166693763042633987085\n",
      "41052684708299085211399427365734116182760315001271\n",
      "65378607361501080857009149939512557028198746004375\n",
      "35829035317434717326932123578154982629742552737307\n",
      "94953759765105305946966067683156574377167401875275\n",
      "88902802571733229619176668713819931811048770190271\n",
      "25267680276078003013678680992525463401061632866526\n",
      "36270218540497705585629946580636237993140746255962\n",
      "24074486908231174977792365466257246923322810917141\n",
      "91430288197103288597806669760892938638285025333403\n",
      "34413065578016127815921815005561868836468420090470\n",
      "23053081172816430487623791969842487255036638784583\n",
      "11487696932154902810424020138335124462181441773470\n",
      "63783299490636259666498587618221225225512486764533\n",
      "67720186971698544312419572409913959008952310058822\n",
      "95548255300263520781532296796249481641953868218774\n",
      "76085327132285723110424803456124867697064507995236\n",
      "37774242535411291684276865538926205024910326572967\n",
      "23701913275725675285653248258265463092207058596522\n",
      "29798860272258331913126375147341994889534765745501\n",
      "18495701454879288984856827726077713721403798879715\n",
      "38298203783031473527721580348144513491373226651381\n",
      "34829543829199918180278916522431027392251122869539\n",
      "40957953066405232632538044100059654939159879593635\n",
      "29746152185502371307642255121183693803580388584903\n",
      "41698116222072977186158236678424689157993532961922\n",
      "62467957194401269043877107275048102390895523597457\n",
      "23189706772547915061505504953922979530901129967519\n",
      "86188088225875314529584099251203829009407770775672\n",
      "11306739708304724483816533873502340845647058077308\n",
      "82959174767140363198008187129011875491310547126581\n",
      "97623331044818386269515456334926366572897563400500\n",
      "42846280183517070527831839425882145521227251250327\n",
      "55121603546981200581762165212827652751691296897789\n",
      "32238195734329339946437501907836945765883352399886\n",
      "75506164965184775180738168837861091527357929701337\n",
      "62177842752192623401942399639168044983993173312731\n",
      "32924185707147349566916674687634660915035914677504\n",
      "99518671430235219628894890102423325116913619626622\n",
      "73267460800591547471830798392868535206946944540724\n",
      "76841822524674417161514036427982273348055556214818\n",
      "97142617910342598647204516893989422179826088076852\n",
      "87783646182799346313767754307809363333018982642090\n",
      "10848802521674670883215120185883543223812876952786\n",
      "71329612474782464538636993009049310363619763878039\n",
      "62184073572399794223406235393808339651327408011116\n",
      "66627891981488087797941876876144230030984490851411\n",
      "60661826293682836764744779239180335110989069790714\n",
      "85786944089552990653640447425576083659976645795096\n",
      "66024396409905389607120198219976047599490197230297\n",
      "64913982680032973156037120041377903785566085089252\n",
      "16730939319872750275468906903707539413042652315011\n",
      "94809377245048795150954100921645863754710598436791\n",
      "78639167021187492431995700641917969777599028300699\n",
      "15368713711936614952811305876380278410754449733078\n",
      "40789923115535562561142322423255033685442488917353\n",
      "44889911501440648020369068063960672322193204149535\n",
      "41503128880339536053299340368006977710650566631954\n",
      "81234880673210146739058568557934581403627822703280\n",
      "82616570773948327592232845941706525094512325230608\n",
      "22918802058777319719839450180888072429661980811197\n",
      "77158542502016545090413245809786882778948721859617\n",
      "72107838435069186155435662884062257473692284509516\n",
      "20849603980134001723930671666823555245252804609722\n",
      "53503534226472524250874054075591789781264330331690\n",
      "</pre>"
     ]
    },
    {
     "cell_type": "code",
     "collapsed": false,
     "input": [
      "numbers = [int(i) for i in '''\n",
      "37107287533902102798797998220837590246510135740250\n",
      "46376937677490009712648124896970078050417018260538\n",
      "74324986199524741059474233309513058123726617309629\n",
      "91942213363574161572522430563301811072406154908250\n",
      "23067588207539346171171980310421047513778063246676\n",
      "89261670696623633820136378418383684178734361726757\n",
      "28112879812849979408065481931592621691275889832738\n",
      "44274228917432520321923589422876796487670272189318\n",
      "47451445736001306439091167216856844588711603153276\n",
      "70386486105843025439939619828917593665686757934951\n",
      "62176457141856560629502157223196586755079324193331\n",
      "64906352462741904929101432445813822663347944758178\n",
      "92575867718337217661963751590579239728245598838407\n",
      "58203565325359399008402633568948830189458628227828\n",
      "80181199384826282014278194139940567587151170094390\n",
      "35398664372827112653829987240784473053190104293586\n",
      "86515506006295864861532075273371959191420517255829\n",
      "71693888707715466499115593487603532921714970056938\n",
      "54370070576826684624621495650076471787294438377604\n",
      "53282654108756828443191190634694037855217779295145\n",
      "36123272525000296071075082563815656710885258350721\n",
      "45876576172410976447339110607218265236877223636045\n",
      "17423706905851860660448207621209813287860733969412\n",
      "81142660418086830619328460811191061556940512689692\n",
      "51934325451728388641918047049293215058642563049483\n",
      "62467221648435076201727918039944693004732956340691\n",
      "15732444386908125794514089057706229429197107928209\n",
      "55037687525678773091862540744969844508330393682126\n",
      "18336384825330154686196124348767681297534375946515\n",
      "80386287592878490201521685554828717201219257766954\n",
      "78182833757993103614740356856449095527097864797581\n",
      "16726320100436897842553539920931837441497806860984\n",
      "48403098129077791799088218795327364475675590848030\n",
      "87086987551392711854517078544161852424320693150332\n",
      "59959406895756536782107074926966537676326235447210\n",
      "69793950679652694742597709739166693763042633987085\n",
      "41052684708299085211399427365734116182760315001271\n",
      "65378607361501080857009149939512557028198746004375\n",
      "35829035317434717326932123578154982629742552737307\n",
      "94953759765105305946966067683156574377167401875275\n",
      "88902802571733229619176668713819931811048770190271\n",
      "25267680276078003013678680992525463401061632866526\n",
      "36270218540497705585629946580636237993140746255962\n",
      "24074486908231174977792365466257246923322810917141\n",
      "91430288197103288597806669760892938638285025333403\n",
      "34413065578016127815921815005561868836468420090470\n",
      "23053081172816430487623791969842487255036638784583\n",
      "11487696932154902810424020138335124462181441773470\n",
      "63783299490636259666498587618221225225512486764533\n",
      "67720186971698544312419572409913959008952310058822\n",
      "95548255300263520781532296796249481641953868218774\n",
      "76085327132285723110424803456124867697064507995236\n",
      "37774242535411291684276865538926205024910326572967\n",
      "23701913275725675285653248258265463092207058596522\n",
      "29798860272258331913126375147341994889534765745501\n",
      "18495701454879288984856827726077713721403798879715\n",
      "38298203783031473527721580348144513491373226651381\n",
      "34829543829199918180278916522431027392251122869539\n",
      "40957953066405232632538044100059654939159879593635\n",
      "29746152185502371307642255121183693803580388584903\n",
      "41698116222072977186158236678424689157993532961922\n",
      "62467957194401269043877107275048102390895523597457\n",
      "23189706772547915061505504953922979530901129967519\n",
      "86188088225875314529584099251203829009407770775672\n",
      "11306739708304724483816533873502340845647058077308\n",
      "82959174767140363198008187129011875491310547126581\n",
      "97623331044818386269515456334926366572897563400500\n",
      "42846280183517070527831839425882145521227251250327\n",
      "55121603546981200581762165212827652751691296897789\n",
      "32238195734329339946437501907836945765883352399886\n",
      "75506164965184775180738168837861091527357929701337\n",
      "62177842752192623401942399639168044983993173312731\n",
      "32924185707147349566916674687634660915035914677504\n",
      "99518671430235219628894890102423325116913619626622\n",
      "73267460800591547471830798392868535206946944540724\n",
      "76841822524674417161514036427982273348055556214818\n",
      "97142617910342598647204516893989422179826088076852\n",
      "87783646182799346313767754307809363333018982642090\n",
      "10848802521674670883215120185883543223812876952786\n",
      "71329612474782464538636993009049310363619763878039\n",
      "62184073572399794223406235393808339651327408011116\n",
      "66627891981488087797941876876144230030984490851411\n",
      "60661826293682836764744779239180335110989069790714\n",
      "85786944089552990653640447425576083659976645795096\n",
      "66024396409905389607120198219976047599490197230297\n",
      "64913982680032973156037120041377903785566085089252\n",
      "16730939319872750275468906903707539413042652315011\n",
      "94809377245048795150954100921645863754710598436791\n",
      "78639167021187492431995700641917969777599028300699\n",
      "15368713711936614952811305876380278410754449733078\n",
      "40789923115535562561142322423255033685442488917353\n",
      "44889911501440648020369068063960672322193204149535\n",
      "41503128880339536053299340368006977710650566631954\n",
      "81234880673210146739058568557934581403627822703280\n",
      "82616570773948327592232845941706525094512325230608\n",
      "22918802058777319719839450180888072429661980811197\n",
      "77158542502016545090413245809786882778948721859617\n",
      "72107838435069186155435662884062257473692284509516\n",
      "20849603980134001723930671666823555245252804609722\n",
      "53503534226472524250874054075591789781264330331690\n",
      "'''.split()]\n",
      "len(numbers),sum(numbers)"
     ],
     "language": "python",
     "metadata": {},
     "outputs": [
      {
       "metadata": {},
       "output_type": "pyout",
       "prompt_number": 3,
       "text": [
        "(100, 5537376230390876637302048746832985971773659831892672L)"
       ]
      }
     ],
     "prompt_number": 3
    },
    {
     "cell_type": "code",
     "collapsed": false,
     "input": [
      "@rc.remote\n",
      "def isPrime(n):\n",
      "    prime = False\n",
      "    if not hasattr(isPrime, 'primes'): isPrime.primes = [2,3,5,7,11,13]\n",
      "    m = isPrime.primes[-1]\n",
      "    if n in isPrimeNo.primes: prime = True\n",
      "    elif n > m and all(n%i for i in itertools.takewhile(lambda x:x < n/3, isPrime.primes)):\n",
      "        for i in (y for y in xrange(m+2,n/2) if y%3==0 and y%6 in [1,5]):\n",
      "            if all(i%j for j in itertools.takewhile(lambda x: x < i/2, isPrime.primes)):\n",
      "                isPrime.primes.append(i)\n",
      "                if n%i == 0: break\n",
      "        else:\n",
      "            isPrime.primes.append(n)\n",
      "            prime = True\n",
      "    return prime"
     ],
     "language": "python",
     "metadata": {},
     "outputs": [],
     "prompt_number": 98
    },
    {
     "cell_type": "code",
     "collapsed": false,
     "input": [
      "def primes():\n",
      "    isPrime(2)\n",
      "    for i in isPrime.primes: yield i\n",
      "    n = isPrime.primes[-1] + 2\n",
      "    while i%3==0 or i%6 not in [1,5]: n=n+2\n",
      "    for i in (j for j in itertools.count(n, 2) if j%3 and j%6 in [1,5] and isPrime(j)): yield i"
     ],
     "language": "python",
     "metadata": {},
     "outputs": [],
     "prompt_number": 99
    },
    {
     "cell_type": "code",
     "collapsed": false,
     "input": [
      "def divisors(n):\n",
      "    return [j for j in xrange(1,n+1) if n%j == 0]"
     ],
     "language": "python",
     "metadata": {},
     "outputs": [],
     "prompt_number": 2
    },
    {
     "cell_type": "code",
     "collapsed": false,
     "input": [
      "def product(nums):\n",
      "    return reduce(operator.mul, nums)"
     ],
     "language": "python",
     "metadata": {},
     "outputs": [],
     "prompt_number": 8
    },
    {
     "cell_type": "code",
     "collapsed": false,
     "input": [
      "def factorial(n):\n",
      "    return 1 if n==0 else product(xrange(1,n+1))"
     ],
     "language": "python",
     "metadata": {},
     "outputs": [],
     "prompt_number": 102
    },
    {
     "cell_type": "code",
     "collapsed": false,
     "input": [
      "def triangles(n):\n",
      "    return 1 if n in (0,1) else product(xrange(n,n+2))/2"
     ],
     "language": "python",
     "metadata": {},
     "outputs": [],
     "prompt_number": 6
    },
    {
     "cell_type": "code",
     "collapsed": false,
     "input": [
      "def over_divisors(n, start=0, step=1):\n",
      "    if n == 0: return 0\n",
      "    if n < 0: return None\n",
      "    last = start\n",
      "    triangle = triangles(last)\n",
      "    divs = len(divisors(triangle))\n",
      "    while divs <= n:\n",
      "        time.sleep(0)\n",
      "        if step > 1 and done:\n",
      "            return last,triangle,divs\n",
      "        last += step\n",
      "        triangle = triangles(last)\n",
      "        divs = len(divisors(triangle))\n",
      "    return last,triangle,divs"
     ],
     "language": "python",
     "metadata": {},
     "outputs": [],
     "prompt_number": 104
    },
    {
     "cell_type": "code",
     "collapsed": false,
     "input": [
      "#rc.shutdown()\n",
      "len(rc)"
     ],
     "language": "python",
     "metadata": {},
     "outputs": [
      {
       "metadata": {},
       "output_type": "pyout",
       "prompt_number": 105,
       "text": [
        "31"
       ]
      }
     ],
     "prompt_number": 105
    },
    {
     "cell_type": "code",
     "collapsed": false,
     "input": [
      "%px print 'hello'"
     ],
     "language": "python",
     "metadata": {},
     "outputs": [
      {
       "output_type": "stream",
       "stream": "stdout",
       "text": [
        "[stdout:0] hello\n",
        "[stdout:1] hello\n",
        "[stdout:2] hello\n",
        "[stdout:3] hello\n",
        "[stdout:4] hello\n",
        "[stdout:5] hello\n",
        "[stdout:6] hello\n",
        "[stdout:7] hello\n",
        "[stdout:8] hello\n",
        "[stdout:9] hello\n",
        "[stdout:10] hello\n",
        "[stdout:11] hello\n",
        "[stdout:12] hello\n",
        "[stdout:13] hello\n",
        "[stdout:14] hello\n",
        "[stdout:15] hello\n",
        "[stdout:16] hello\n",
        "[stdout:17] hello\n",
        "[stdout:18] hello\n",
        "[stdout:19] hello\n",
        "[stdout:20] hello\n",
        "[stdout:21] hello\n",
        "[stdout:22] hello\n",
        "[stdout:23] hello\n",
        "[stdout:24] hello\n",
        "[stdout:25] hello\n",
        "[stdout:26] hello\n",
        "[stdout:27] hello\n",
        "[stdout:28] hello\n",
        "[stdout:29] hello\n",
        "[stdout:30] hello\n"
       ]
      }
     ],
     "prompt_number": 106
    },
    {
     "cell_type": "code",
     "collapsed": false,
     "input": [
      "methods = {'product':product,\n",
      "           'divisors':divisors,\n",
      "           'triangles':triangles,\n",
      "           'over_divisors':over_divisors,\n",
      "           'primes':primes}\n",
      "rc.update(methods).get(1)"
     ],
     "language": "python",
     "metadata": {},
     "outputs": [
      {
       "metadata": {},
       "output_type": "pyout",
       "prompt_number": 107,
       "text": [
        "[None,\n",
        " None,\n",
        " None,\n",
        " None,\n",
        " None,\n",
        " None,\n",
        " None,\n",
        " None,\n",
        " None,\n",
        " None,\n",
        " None,\n",
        " None,\n",
        " None,\n",
        " None,\n",
        " None,\n",
        " None,\n",
        " None,\n",
        " None,\n",
        " None,\n",
        " None,\n",
        " None,\n",
        " None,\n",
        " None,\n",
        " None,\n",
        " None,\n",
        " None,\n",
        " None,\n",
        " None,\n",
        " None,\n",
        " None,\n",
        " None]"
       ]
      }
     ],
     "prompt_number": 107
    },
    {
     "cell_type": "code",
     "collapsed": false,
     "input": [
      "t1 = datetime.datetime.now()\n",
      "print 'start time = {0}'.format(t1)\n",
      "print over_divisors(100)\n",
      "print 'end time = {0}'.format(datetime.datetime.now()-t1)"
     ],
     "language": "python",
     "metadata": {},
     "outputs": [
      {
       "output_type": "stream",
       "stream": "stdout",
       "text": [
        "start time = 2014-02-03 12:00:27.230324\n",
        "(384, 73920, 112)"
       ]
      },
      {
       "output_type": "stream",
       "stream": "stdout",
       "text": [
        "\n",
        "end time = 0:00:00.554721\n"
       ]
      }
     ],
     "prompt_number": 108
    },
    {
     "cell_type": "code",
     "collapsed": false,
     "input": [
      "def returnar(ar):\n",
      "    t1 = datetime.datetime.now()\n",
      "    print 'start time = {0}'.format(t1)\n",
      "    while not ar.ready():\n",
      "        if ar.progress:\n",
      "            rc['done'] = True\n",
      "        ar.wait(360)\n",
      "        print 'runtime = {0}'.format(datetime.datetime.now()-t1)\n",
      "    print 'end time = {0}'.format(datetime.datetime.now()-t1)\n",
      "    return ar.get()\n",
      "def number_divisors(dv,n):\n",
      "    dv['done'] = False\n",
      "    lrc = len(dv)\n",
      "    dv_nd = dv.map(over_divisors,[n]*lrc,range(lrc),[lrc]*lrc)\n",
      "    thread1 = threading.Thread(target=returnar,args=[rc_nd])\n",
      "    thread1.start()\n",
      "    return dv_nd"
     ],
     "language": "python",
     "metadata": {},
     "outputs": [],
     "prompt_number": 116
    },
    {
     "cell_type": "code",
     "collapsed": false,
     "input": [],
     "language": "python",
     "metadata": {},
     "outputs": []
    },
    {
     "cell_type": "code",
     "collapsed": false,
     "input": [
      "rc_nd = number_divisors(rc,100)"
     ],
     "language": "python",
     "metadata": {},
     "outputs": [
      {
       "output_type": "stream",
       "stream": "stdout",
       "text": [
        "start time = 2014-02-03 12:18:56.250613\n"
       ]
      }
     ],
     "prompt_number": 117
    },
    {
     "cell_type": "code",
     "collapsed": false,
     "input": [
      "if rc_nd.ready():\n",
      "    pprint.pprint(rc_nd.get())\n",
      "else:\n",
      "    print rc_nd.progress"
     ],
     "language": "python",
     "metadata": {},
     "outputs": [
      {
       "output_type": "stream",
       "stream": "stdout",
       "text": [
        "runtime = 0:00:09.992103\n",
        "end time = 0:00:09.992210\n",
        "["
       ]
      },
      {
       "output_type": "stream",
       "stream": "stdout",
       "text": [
        "(1364, 930930, 128),\n",
        " (1520, 1155960, 144),\n",
        " (560, 157080, 128),\n",
        " (1088, 592416, 108),\n",
        " (2484, 3086370, 128),\n",
        " (935, 437580, 144),\n",
        " (440, 97020, 108),\n",
        " (3200, 5121600, 168),\n",
        " (2240, 2509920, 192),\n",
        " (1280, 819840, 128),\n",
        " (1715, 1471470, 128),\n",
        " (2925, 4279275, 144),\n",
        " (384, 73920, 112),\n",
        " (1904, 1813560, 128),\n",
        " (944, 446040, 128),\n",
        " (1224, 749700, 162),\n",
        " (1287, 828828, 144),\n",
        " (575, 165600, 108),\n",
        " (1599, 1279200, 144),\n",
        " (1104, 609960, 128),\n",
        " (1539, 1185030, 160),\n",
        " (1664, 1385280, 168),\n",
        " (735, 270480, 120),\n",
        " (1728, 1493856, 192),\n",
        " (1295, 839160, 160),\n",
        " (1575, 1241100, 108),\n",
        " (1700, 1445850, 144),\n",
        " (1484, 1101870, 128),\n",
        " (896, 401856, 112),\n",
        " (1455, 1059240, 128),\n",
        " (1952, 1906128, 120)]\n"
       ]
      }
     ],
     "prompt_number": 118
    },
    {
     "cell_type": "code",
     "collapsed": false,
     "input": [
      "t1 = datetime.datetime.now()\n",
      "print 'start time = {0}'.format(t1)\n",
      "print over_divisors(200)\n",
      "print 'end time = {0}'.format(datetime.datetime.now()-t1)"
     ],
     "language": "python",
     "metadata": {},
     "outputs": [
      {
       "output_type": "stream",
       "stream": "stdout",
       "text": [
        "start time = 2014-02-03 12:27:14.371696\n",
        "(2015, 2031120, 240)"
       ]
      },
      {
       "output_type": "stream",
       "stream": "stdout",
       "text": [
        "\n",
        "end time = 0:01:36.626034\n"
       ]
      }
     ],
     "prompt_number": 121
    },
    {
     "cell_type": "code",
     "collapsed": false,
     "input": [
      "rc_nd = number_divisors(rc,500)"
     ],
     "language": "python",
     "metadata": {},
     "outputs": [
      {
       "output_type": "stream",
       "stream": "stdout",
       "text": [
        "start time = 2014-02-03 12:32:23.218407\n"
       ]
      }
     ],
     "prompt_number": 124
    },
    {
     "cell_type": "code",
     "collapsed": false,
     "input": [
      "rc_nd.get() if rc_nd.ready() else rc_nd.progress"
     ],
     "language": "python",
     "metadata": {},
     "outputs": [
      {
       "metadata": {},
       "output_type": "pyout",
       "prompt_number": 136,
       "text": [
        "[(27404, 375503310, 512),\n",
        " (35775, 639943200, 576),\n",
        " (49664, 1233281280, 576),\n",
        " (36800, 677138400, 576),\n",
        " (21735, 236215980, 768),\n",
        " (54999, 1512472500, 600),\n",
        " (12375, 76576500, 576),\n",
        " (25024, 313112800, 576),\n",
        " (31535, 497243880, 512),\n",
        " (25584, 327283320, 512),\n",
        " (30855, 476030940, 576),\n",
        " (55935, 1564390080, 672),\n",
        " (28160, 396506880, 576),\n",
        " (39104, 764580960, 576),\n",
        " (37400, 699398700, 576),\n",
        " (14399, 103672800, 648),\n",
        " (25839, 333839880, 640),\n",
        " (32319, 522275040, 576),\n",
        " (22400, 250891200, 504),\n",
        " (51975, 1350726300, 576),\n",
        " (27455, 376902240, 576),\n",
        " (16575, 137373600, 576),\n",
        " (18095, 163723560, 512),\n",
        " (30744, 472612140, 576),\n",
        " (34775, 604667700, 576),\n",
        " (17199, 147911400, 576),\n",
        " (29600, 438094800, 720),\n",
        " (20735, 214980480, 640),\n",
        " (25200, 317532600, 576),\n",
        " (26999, 364486500, 576),\n",
        " (31464, 495007380, 576)]"
       ]
      }
     ],
     "prompt_number": 136
    },
    {
     "cell_type": "heading",
     "level": 4,
     "metadata": {},
     "source": [
      "Problem 6\n",
      "\n",
      "Sum of the numbers squared minus the sum of the square of each number for the numbers from 1 through 100"
     ]
    },
    {
     "cell_type": "code",
     "collapsed": false,
     "input": [
      "sum(xrange(1,101))**2 - sum(i**2 for i in xrange(1,101))"
     ],
     "language": "python",
     "metadata": {},
     "outputs": [
      {
       "metadata": {},
       "output_type": "pyout",
       "prompt_number": 2,
       "text": [
        "25164150"
       ]
      }
     ],
     "prompt_number": 2
    },
    {
     "cell_type": "heading",
     "level": 4,
     "metadata": {},
     "source": [
      "Problem 7\n",
      "\n",
      "By listing the first six prime numbers: 2, 3, 5, 7, 11, and 13, we can see that the 6th prime is 13.\n",
      "\n",
      "What is the 10 001st prime number?"
     ]
    },
    {
     "cell_type": "raw",
     "metadata": {},
     "source": [
      "IMPLEMENTED:\n",
      "Primes > 2 and 3 are 6k plus or minus 1\n",
      "\n",
      "TODO:\n",
      "c#k + i where i is the composite primes < c# and c# = the product of the composite primes of c\n",
      "for c=6 c#=2*3*5=30"
     ]
    },
    {
     "cell_type": "code",
     "collapsed": false,
     "input": [
      "for count, n in enumerate(primes()):\n",
      "    if count == 10000:\n",
      "        print n\n",
      "        break"
     ],
     "language": "python",
     "metadata": {},
     "outputs": [
      {
       "output_type": "stream",
       "stream": "stdout",
       "text": [
        "104743\n"
       ]
      }
     ],
     "prompt_number": 63
    },
    {
     "cell_type": "code",
     "collapsed": false,
     "input": [
      "isPrime.primes[-1],len(isPrime.primes)"
     ],
     "language": "python",
     "metadata": {},
     "outputs": [
      {
       "metadata": {},
       "output_type": "pyout",
       "prompt_number": 72,
       "text": [
        "(104743, 10001)"
       ]
      }
     ],
     "prompt_number": 72
    },
    {
     "cell_type": "markdown",
     "metadata": {},
     "source": [
      "<h4>Problem 8</h4>\n",
      "\n",
      "Find the greatest product of five consecutive digits in the 1000-digit number.\n",
      "<pre>\n",
      "73167176531330624919225119674426574742355349194934\n",
      "96983520312774506326239578318016984801869478851843\n",
      "85861560789112949495459501737958331952853208805511\n",
      "12540698747158523863050715693290963295227443043557\n",
      "66896648950445244523161731856403098711121722383113\n",
      "62229893423380308135336276614282806444486645238749\n",
      "30358907296290491560440772390713810515859307960866\n",
      "70172427121883998797908792274921901699720888093776\n",
      "65727333001053367881220235421809751254540594752243\n",
      "52584907711670556013604839586446706324415722155397\n",
      "53697817977846174064955149290862569321978468622482\n",
      "83972241375657056057490261407972968652414535100474\n",
      "82166370484403199890008895243450658541227588666881\n",
      "16427171479924442928230863465674813919123162824586\n",
      "17866458359124566529476545682848912883142607690042\n",
      "24219022671055626321111109370544217506941658960408\n",
      "07198403850962455444362981230987879927244284909188\n",
      "84580156166097919133875499200524063689912560717606\n",
      "05886116467109405077541002256983155200055935729725\n",
      "71636269561882670428252483600823257530420752963450\n",
      "</pre>"
     ]
    },
    {
     "cell_type": "code",
     "collapsed": false,
     "input": [
      "rc.apply_sync(product,xrange(1,20))"
     ],
     "language": "python",
     "metadata": {},
     "outputs": [
      {
       "metadata": {},
       "output_type": "pyout",
       "prompt_number": 50,
       "text": [
        "<AsyncResult: product>"
       ]
      }
     ],
     "prompt_number": 50
    },
    {
     "cell_type": "code",
     "collapsed": false,
     "input": [
      "num = ''.join('''\n",
      "73167176531330624919225119674426574742355349194934\n",
      "96983520312774506326239578318016984801869478851843\n",
      "85861560789112949495459501737958331952853208805511\n",
      "12540698747158523863050715693290963295227443043557\n",
      "66896648950445244523161731856403098711121722383113\n",
      "62229893423380308135336276614282806444486645238749\n",
      "30358907296290491560440772390713810515859307960866\n",
      "70172427121883998797908792274921901699720888093776\n",
      "65727333001053367881220235421809751254540594752243\n",
      "52584907711670556013604839586446706324415722155397\n",
      "53697817977846174064955149290862569321978468622482\n",
      "83972241375657056057490261407972968652414535100474\n",
      "82166370484403199890008895243450658541227588666881\n",
      "16427171479924442928230863465674813919123162824586\n",
      "17866458359124566529476545682848912883142607690042\n",
      "24219022671055626321111109370544217506941658960408\n",
      "07198403850962455444362981230987879927244284909188\n",
      "84580156166097919133875499200524063689912560717606\n",
      "05886116467109405077541002256983155200055935729725\n",
      "71636269561882670428252483600823257530420752963450\n",
      "'''.split())\n",
      "digits = frozenset(tuple(sorted(int(a) for a in num[b:b+5])) for b in xrange(len(num)-5) if '0' not in num[b:b+5])\n",
      "max((product(list(i)),list(i)) for i in digits)"
     ],
     "language": "python",
     "metadata": {},
     "outputs": [
      {
       "metadata": {},
       "output_type": "pyout",
       "prompt_number": 10,
       "text": [
        "(40824, [7, 8, 9, 9, 9])"
       ]
      }
     ],
     "prompt_number": 10
    },
    {
     "cell_type": "markdown",
     "metadata": {},
     "source": [
      "<h4>Problem 9</h4>\n",
      "\n",
      "A Pythagorean triplet is a set of three natural numbers, a < b < c, for which,\n",
      "\n",
      "a2 + b2 = c2\n",
      "For example, 32 + 42 = 9 + 16 = 25 = 52.\n",
      "\n",
      "There exists exactly one Pythagorean triplet for which a + b + c = 1000.\n",
      "Find the product abc."
     ]
    },
    {
     "cell_type": "code",
     "collapsed": false,
     "input": [
      "possibles = frozenset(tuple(sorted([a,b,1000-(a+b)])) for a in xrange(1,999) for b in xrange(1,999-a) if a < b < 1000-(a+b))\n",
      "triplet = [[x,y,z] for x,y,z in possibles if x**2 + y**2 == z**2][0]\n",
      "product(triplet)"
     ],
     "language": "python",
     "metadata": {},
     "outputs": [
      {
       "metadata": {},
       "output_type": "pyout",
       "prompt_number": 74,
       "text": [
        "31875000"
       ]
      }
     ],
     "prompt_number": 74
    },
    {
     "cell_type": "markdown",
     "metadata": {},
     "source": [
      "<h4>Problem 10</h4>\n",
      "\n",
      "The sum of the primes below 10 is 2 + 3 + 5 + 7 = 17.\n",
      "\n",
      "Find the sum of all the primes below two million."
     ]
    },
    {
     "cell_type": "code",
     "collapsed": false,
     "input": [
      "%timeit -n 1 sum(itertools.takewhile(lambda x:x<2000000,primes()))"
     ],
     "language": "python",
     "metadata": {},
     "outputs": [
      {
       "ename": "NameError",
       "evalue": "name 'primes' is not defined",
       "output_type": "pyerr",
       "traceback": [
        "\u001b[1;31m---------------------------------------------------------------------------\u001b[0m\n\u001b[1;31mNameError\u001b[0m                                 Traceback (most recent call last)",
        "\u001b[1;32m<ipython-input-67-4a88d0bcc861>\u001b[0m in \u001b[0;36m<module>\u001b[1;34m()\u001b[0m\n\u001b[1;32m----> 1\u001b[1;33m \u001b[0msum\u001b[0m\u001b[1;33m(\u001b[0m\u001b[0mitertools\u001b[0m\u001b[1;33m.\u001b[0m\u001b[0mtakewhile\u001b[0m\u001b[1;33m(\u001b[0m\u001b[1;32mlambda\u001b[0m \u001b[0mx\u001b[0m\u001b[1;33m:\u001b[0m\u001b[0mx\u001b[0m\u001b[1;33m<\u001b[0m\u001b[1;36m2000000\u001b[0m\u001b[1;33m,\u001b[0m\u001b[0mprimes\u001b[0m\u001b[1;33m(\u001b[0m\u001b[1;33m)\u001b[0m\u001b[1;33m)\u001b[0m\u001b[1;33m)\u001b[0m\u001b[1;33m\u001b[0m\u001b[0m\n\u001b[0m",
        "\u001b[1;31mNameError\u001b[0m: name 'primes' is not defined"
       ]
      }
     ],
     "prompt_number": 67
    },
    {
     "cell_type": "markdown",
     "metadata": {},
     "source": [
      "#### Problem 11\n",
      "\n",
      "In the 20\u00d720 grid below, four numbers along a diagonal line have been marked in red.\n",
      "\n",
      "<style>\n",
      "code strong {color:red;}\n",
      "</style>\n",
      "<code>\n",
      "08 02 22 97 38 15 00 40 00 75 04 05 07 78 52 12 50 77 91 08\n",
      "49 49 99 40 17 81 18 57 60 87 17 40 98 43 69 48 04 56 62 00\n",
      "81 49 31 73 55 79 14 29 93 71 40 67 53 88 30 03 49 13 36 65\n",
      "52 70 95 23 04 60 11 42 69 24 68 56 01 32 56 71 37 02 36 91\n",
      "22 31 16 71 51 67 63 89 41 92 36 54 22 40 40 28 66 33 13 80\n",
      "24 47 32 60 99 03 45 02 44 75 33 53 78 36 84 20 35 17 12 50\n",
      "32 98 81 28 64 23 67 10 **26** 38 40 67 59 54 70 66 18 38 64 70\n",
      "67 26 20 68 02 62 12 20 95 **63** 94 39 63 08 40 91 66 49 94 21\n",
      "24 55 58 05 66 73 99 26 97 17 **78** 78 96 83 14 88 34 89 63 72\n",
      "21 36 23 09 75 00 76 44 20 45 35 **14** 00 61 33 97 34 31 33 95\n",
      "78 17 53 28 22 75 31 67 15 94 03 80 04 62 16 14 09 53 56 92\n",
      "16 39 05 42 96 35 31 47 55 58 88 24 00 17 54 24 36 29 85 57\n",
      "86 56 00 48 35 71 89 07 05 44 44 37 44 60 21 58 51 54 17 58\n",
      "19 80 81 68 05 94 47 69 28 73 92 13 86 52 17 77 04 89 55 40\n",
      "04 52 08 83 97 35 99 16 07 97 57 32 16 26 26 79 33 27 98 66\n",
      "88 36 68 87 57 62 20 72 03 46 33 67 46 55 12 32 63 93 53 69\n",
      "04 42 16 73 38 25 39 11 24 94 72 18 08 46 29 32 40 62 76 36\n",
      "20 69 36 41 72 30 23 88 34 62 99 69 82 67 59 85 74 04 36 16\n",
      "20 73 35 29 78 31 90 01 74 31 49 71 48 86 81 16 23 57 05 54\n",
      "01 70 54 71 83 51 54 69 16 92 33 48 61 43 52 01 89 19 67 48\n",
      "</code>\n",
      "\n",
      "The product of these numbers is 26 \u00d7 63 \u00d7 78 \u00d7 14 = 1788696.\n",
      "\n",
      "What is the greatest product of four adjacent numbers in the same direction (up, down, left, right, or diagonally) in the 20\u00d720 grid?"
     ]
    },
    {
     "cell_type": "code",
     "collapsed": false,
     "input": [
      "grid = [int(i) for i in '''\n",
      "08 02 22 97 38 15 00 40 00 75 04 05 07 78 52 12 50 77 91 08\n",
      "49 49 99 40 17 81 18 57 60 87 17 40 98 43 69 48 04 56 62 00\n",
      "81 49 31 73 55 79 14 29 93 71 40 67 53 88 30 03 49 13 36 65\n",
      "52 70 95 23 04 60 11 42 69 24 68 56 01 32 56 71 37 02 36 91\n",
      "22 31 16 71 51 67 63 89 41 92 36 54 22 40 40 28 66 33 13 80\n",
      "24 47 32 60 99 03 45 02 44 75 33 53 78 36 84 20 35 17 12 50\n",
      "32 98 81 28 64 23 67 10 26 38 40 67 59 54 70 66 18 38 64 70\n",
      "67 26 20 68 02 62 12 20 95 63 94 39 63 08 40 91 66 49 94 21\n",
      "24 55 58 05 66 73 99 26 97 17 78 78 96 83 14 88 34 89 63 72\n",
      "21 36 23 09 75 00 76 44 20 45 35 14 00 61 33 97 34 31 33 95\n",
      "78 17 53 28 22 75 31 67 15 94 03 80 04 62 16 14 09 53 56 92\n",
      "16 39 05 42 96 35 31 47 55 58 88 24 00 17 54 24 36 29 85 57\n",
      "86 56 00 48 35 71 89 07 05 44 44 37 44 60 21 58 51 54 17 58\n",
      "19 80 81 68 05 94 47 69 28 73 92 13 86 52 17 77 04 89 55 40\n",
      "04 52 08 83 97 35 99 16 07 97 57 32 16 26 26 79 33 27 98 66\n",
      "88 36 68 87 57 62 20 72 03 46 33 67 46 55 12 32 63 93 53 69\n",
      "04 42 16 73 38 25 39 11 24 94 72 18 08 46 29 32 40 62 76 36\n",
      "20 69 36 41 72 30 23 88 34 62 99 69 82 67 59 85 74 04 36 16\n",
      "20 73 35 29 78 31 90 01 74 31 49 71 48 86 81 16 23 57 05 54\n",
      "01 70 54 71 83 51 54 69 16 92 33 48 61 43 52 01 89 19 67 48\n",
      "'''.strip().split()]\n",
      "grid_rows = [grid[i:i+20] for i in range(0,20*20,20)]\n",
      "left_right = max(product(row[i:i+4]) for row in grid_rows for i in range(20-3) if 0 not in row[i:i+4])\n",
      "grid_cols = [grid[i::20] for i in range(20)]\n",
      "up_down = max(product(col[i:i+4]) for col in grid_cols for i in range(20-3) if 0 not in col[i:i+4])\n",
      "diagonal_down = [grid[i:j:21] for i,j in [(e,(400-((20*e) if e < 20 else 0))) for e in range(20)+range(20,20*20,20)] if len(grid[i:j:21]) > 3]\n",
      "right_down = max(product(diag[i:i+4]) for diag in diagonal_down for i in range(len(diag)-3) if 0 not in diag[i:i+4])\n",
      "diagonal_up = [grid[i:j:19] for i,j in [(e,((20*e) if e < 20 else 400)) for e in range(19)+range(19,400,20)] if len(grid[i:j:19]) > 3]\n",
      "left_up = max(product(diag[i:i+4]) for diag in diagonal_up for i in range(len(diag)-3) if 0 not in diag[i:i+4])\n",
      "max([left_right,up_down,right_down,left_up])"
     ],
     "language": "python",
     "metadata": {},
     "outputs": []
    },
    {
     "cell_type": "markdown",
     "metadata": {},
     "source": [
      "#### Problem 12\n",
      "\n",
      "The sequence of triangle numbers is generated by adding the natural numbers. So the 7th triangle number would be 1 + 2 + 3 + 4 + 5 + 6 + 7 = 28. The first ten terms would be:\n",
      "\n",
      "1, 3, 6, 10, 15, 21, 28, 36, 45, 55, ...\n",
      "\n",
      "Let us list the factors of the first seven triangle numbers:\n",
      "\n",
      "<code>\n",
      " 1: 1\n",
      " 3: 1,3\n",
      " 6: 1,2,3,6\n",
      "10: 1,2,5,10\n",
      "15: 1,3,5,15\n",
      "21: 1,3,7,21\n",
      "28: 1,2,4,7,14,28\n",
      "</code>\n",
      "\n",
      "We can see that 28 is the first triangle number to have over five divisors.\n",
      "\n",
      "What is the value of the first triangle number to have over five hundred divisors?"
     ]
    },
    {
     "cell_type": "raw",
     "metadata": {},
     "source": [
      "T(a+b)=Ta+Tb+ab\n",
      "T(ab)=TaTb+T(a-1)T(b-1)\n",
      "math.factorial(n+1)/(math.factorial(n-1)*2)\n",
      "sum(i for i,j in zip(triangles(),range(1,n+1))) == (n*(n+1)*(n+2))/6\n"
     ]
    },
    {
     "cell_type": "code",
     "collapsed": false,
     "input": [
      "n = 10"
     ],
     "language": "python",
     "metadata": {},
     "outputs": [],
     "prompt_number": 51
    },
    {
     "cell_type": "code",
     "collapsed": false,
     "input": [
      "%timeit -n 1 sum(triangles(i) for i in xrange(1,n+1))"
     ],
     "language": "python",
     "metadata": {},
     "outputs": [
      {
       "output_type": "stream",
       "stream": "stdout",
       "text": [
        "1 loops, best of 3: 10 \u00b5s per loop\n"
       ]
      }
     ],
     "prompt_number": 56
    },
    {
     "cell_type": "code",
     "collapsed": false,
     "input": [
      "%timeit -n 1 math.factorial(n+2)/(math.factorial(n-1)*6)"
     ],
     "language": "python",
     "metadata": {},
     "outputs": [
      {
       "output_type": "stream",
       "stream": "stdout",
       "text": [
        "1 loops, best of 3: 1.91 \u00b5s per loop\n"
       ]
      }
     ],
     "prompt_number": 41
    },
    {
     "cell_type": "code",
     "collapsed": false,
     "input": [
      "%timeit -n 1 (n*(n+1)*(n+2))/6"
     ],
     "language": "python",
     "metadata": {},
     "outputs": [
      {
       "output_type": "stream",
       "stream": "stdout",
       "text": [
        "1 loops, best of 3: 954 ns per loop\n"
       ]
      }
     ],
     "prompt_number": 42
    },
    {
     "cell_type": "code",
     "collapsed": false,
     "input": [
      "%timeit -n 1 math.factorial(n+1)/(math.factorial(n-1)*2)"
     ],
     "language": "python",
     "metadata": {},
     "outputs": [],
     "prompt_number": 50
    },
    {
     "cell_type": "code",
     "collapsed": false,
     "input": [
      "%timeit -n 1 product(range(n,n+2))/2"
     ],
     "language": "python",
     "metadata": {},
     "outputs": [
      {
       "output_type": "stream",
       "stream": "stdout",
       "text": [
        "1 loops, best of 3: 1.91 \u00b5s per loop\n"
       ]
      }
     ],
     "prompt_number": 48
    },
    {
     "cell_type": "code",
     "collapsed": false,
     "input": [
      "%timeit -n 1 product(xrange(n,n+2))/2"
     ],
     "language": "python",
     "metadata": {},
     "outputs": [
      {
       "output_type": "stream",
       "stream": "stdout",
       "text": [
        "1 loops, best of 3: 1.91 \u00b5s per loop\n"
       ]
      }
     ],
     "prompt_number": 49
    },
    {
     "cell_type": "code",
     "collapsed": false,
     "input": [
      "%timeit -n 1 [math.factorial(j+1)/(math.factorial(j-1)*2) for j in range(1,100)]"
     ],
     "language": "python",
     "metadata": {},
     "outputs": [
      {
       "output_type": "stream",
       "stream": "stdout",
       "text": [
        "1 loops, best of 3: 783 \u00b5s per loop\n"
       ]
      }
     ],
     "prompt_number": 44
    },
    {
     "cell_type": "code",
     "collapsed": false,
     "input": [
      "%timeit -n 1 [i for i,j in zip(triangles(),range(1,100))]"
     ],
     "language": "python",
     "metadata": {},
     "outputs": [],
     "prompt_number": 12
    },
    {
     "cell_type": "code",
     "collapsed": false,
     "input": [
      "[factorial(i) for i in xrange(5)]"
     ],
     "language": "python",
     "metadata": {},
     "outputs": [
      {
       "metadata": {},
       "output_type": "pyout",
       "prompt_number": 10,
       "text": [
        "[1, 1, 2, 6, 24]"
       ]
      }
     ],
     "prompt_number": 10
    },
    {
     "cell_type": "code",
     "collapsed": false,
     "input": [
      "%timeit -n1 [triangles(i) for i in xrange(100)]"
     ],
     "language": "python",
     "metadata": {},
     "outputs": [
      {
       "output_type": "stream",
       "stream": "stdout",
       "text": [
        "1 loops, best of 3: 88.9 \u00b5s per loop\n"
       ]
      }
     ],
     "prompt_number": 20
    },
    {
     "cell_type": "code",
     "collapsed": false,
     "input": [
      "over_divisors(200)"
     ],
     "language": "python",
     "metadata": {},
     "outputs": [
      {
       "metadata": {},
       "output_type": "pyout",
       "prompt_number": 26,
       "text": [
        "2031120"
       ]
      }
     ],
     "prompt_number": 26
    },
    {
     "cell_type": "code",
     "collapsed": false,
     "input": [
      "rc.shutdown()"
     ],
     "language": "python",
     "metadata": {},
     "outputs": [],
     "prompt_number": 105
    },
    {
     "cell_type": "code",
     "collapsed": false,
     "input": [
      "len(divisors(73920)),product(i for i in range(1,101))"
     ],
     "language": "python",
     "metadata": {},
     "outputs": [
      {
       "metadata": {},
       "output_type": "pyout",
       "prompt_number": 90,
       "text": [
        "(112,\n",
        " 93326215443944152681699238856266700490715968264381621468592963895217599993229915608941463976156518286253697920827223758251185210916864000000000000000000000000L)"
       ]
      }
     ],
     "prompt_number": 90
    },
    {
     "cell_type": "code",
     "collapsed": false,
     "input": [
      "[[k,len(v)] for k,v in divisors.divisors.items()]"
     ],
     "language": "python",
     "metadata": {},
     "outputs": [
      {
       "metadata": {},
       "output_type": "pyout",
       "prompt_number": 204,
       "text": [
        "[[131071744000, 192],\n",
        " [2048032000, 288],\n",
        " [127992000, 112],\n",
        " [511984000, 128],\n",
        " [500500, 96],\n",
        " [1999000, 32],\n",
        " [2047968000, 432],\n",
        " [32004000, 288],\n",
        " [32768128000, 176],\n",
        " [499500, 96],\n",
        " [7998000, 160],\n",
        " [8191936000, 160],\n",
        " [128008000, 56],\n",
        " [125250, 32],\n",
        " [131072256000, 1728],\n",
        " [124750, 16],\n",
        " [8002000, 40],\n",
        " [8192064000, 160],\n",
        " [31996000, 96],\n",
        " [32767872000, 176],\n",
        " [2001000, 128],\n",
        " [512016000, 128]]"
       ]
      }
     ],
     "prompt_number": 204
    },
    {
     "cell_type": "code",
     "collapsed": false,
     "input": [
      "divs=divisors(131072256000)"
     ],
     "language": "python",
     "metadata": {},
     "outputs": []
    },
    {
     "cell_type": "code",
     "collapsed": false,
     "input": [
      "len(divs)"
     ],
     "language": "python",
     "metadata": {},
     "outputs": []
    },
    {
     "cell_type": "code",
     "collapsed": false,
     "input": [
      "len(divisors(next(triangles(9))))"
     ],
     "language": "python",
     "metadata": {},
     "outputs": []
    },
    {
     "cell_type": "code",
     "collapsed": false,
     "input": [
      "sum(i for i in isPrime.primes if i < 2000000)"
     ],
     "language": "python",
     "metadata": {},
     "outputs": [
      {
       "metadata": {},
       "output_type": "pyout",
       "prompt_number": 9,
       "text": [
        "11241637063"
       ]
      }
     ],
     "prompt_number": 9
    },
    {
     "cell_type": "code",
     "collapsed": false,
     "input": [
      "sum(range(10000))"
     ],
     "language": "python",
     "metadata": {},
     "outputs": [
      {
       "metadata": {},
       "output_type": "pyout",
       "prompt_number": 7,
       "text": [
        "49995000"
       ]
      }
     ],
     "prompt_number": 7
    },
    {
     "cell_type": "code",
     "collapsed": false,
     "input": [
      "len(divisors(250891200))"
     ],
     "language": "python",
     "metadata": {},
     "outputs": [
      {
       "metadata": {},
       "output_type": "pyout",
       "prompt_number": 4,
       "text": [
        "504"
       ]
      }
     ],
     "prompt_number": 4
    },
    {
     "cell_type": "code",
     "collapsed": false,
     "input": [
      "len(divisors(76576500))"
     ],
     "language": "python",
     "metadata": {},
     "outputs": [
      {
       "metadata": {},
       "output_type": "pyout",
       "prompt_number": 5,
       "text": [
        "576"
       ]
      }
     ],
     "prompt_number": 5
    },
    {
     "cell_type": "code",
     "collapsed": false,
     "input": [
      "triangles(12375)"
     ],
     "language": "python",
     "metadata": {},
     "outputs": [
      {
       "metadata": {},
       "output_type": "pyout",
       "prompt_number": 13,
       "text": [
        "76576500"
       ]
      }
     ],
     "prompt_number": 13
    },
    {
     "cell_type": "code",
     "collapsed": false,
     "input": [],
     "language": "python",
     "metadata": {},
     "outputs": []
    }
   ],
   "metadata": {}
  }
 ]
}