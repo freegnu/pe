{
 "metadata": {
  "name": "",
  "signature": "sha256:ff66dfd6e2174e97684af040f9e98889e8d51c79729000693ef61dde0ae3b5e2"
 },
 "nbformat": 3,
 "nbformat_minor": 0,
 "worksheets": [
  {
   "cells": [
    {
     "cell_type": "code",
     "collapsed": false,
     "input": [
      "from IPython import parallel\n",
      "client = parallel.Client(profile='notebook')\n",
      "client.activate()\n",
      "rc = client[:]"
     ],
     "language": "python",
     "metadata": {},
     "outputs": [
      {
       "ename": "IOError",
       "evalue": "[Errno 2] No such file or directory: u'/home/freegnu/.ipython/profile_notebook/security/ipcontroller-client.json'",
       "output_type": "pyerr",
       "traceback": [
        "\u001b[1;31m---------------------------------------------------------------------------\u001b[0m\n\u001b[1;31mIOError\u001b[0m                                   Traceback (most recent call last)",
        "\u001b[1;32m<ipython-input-10-55485ea9d1a0>\u001b[0m in \u001b[0;36m<module>\u001b[1;34m()\u001b[0m\n\u001b[0;32m      1\u001b[0m \u001b[1;32mfrom\u001b[0m \u001b[0mIPython\u001b[0m \u001b[1;32mimport\u001b[0m \u001b[0mparallel\u001b[0m\u001b[1;33m\u001b[0m\u001b[0m\n\u001b[1;32m----> 2\u001b[1;33m \u001b[0mclient\u001b[0m \u001b[1;33m=\u001b[0m \u001b[0mparallel\u001b[0m\u001b[1;33m.\u001b[0m\u001b[0mClient\u001b[0m\u001b[1;33m(\u001b[0m\u001b[0mprofile\u001b[0m\u001b[1;33m=\u001b[0m\u001b[1;34m'notebook'\u001b[0m\u001b[1;33m)\u001b[0m\u001b[1;33m\u001b[0m\u001b[0m\n\u001b[0m\u001b[0;32m      3\u001b[0m \u001b[0mclient\u001b[0m\u001b[1;33m.\u001b[0m\u001b[0mactivate\u001b[0m\u001b[1;33m(\u001b[0m\u001b[1;33m)\u001b[0m\u001b[1;33m\u001b[0m\u001b[0m\n\u001b[0;32m      4\u001b[0m \u001b[0mrc\u001b[0m \u001b[1;33m=\u001b[0m \u001b[0mclient\u001b[0m\u001b[1;33m[\u001b[0m\u001b[1;33m:\u001b[0m\u001b[1;33m]\u001b[0m\u001b[1;33m\u001b[0m\u001b[0m\n",
        "\u001b[1;32m/home/freegnu/env/freegnu/local/lib/python2.7/site-packages/IPython/parallel/client/client.pyc\u001b[0m in \u001b[0;36m__init__\u001b[1;34m(self, url_file, profile, profile_dir, ipython_dir, context, debug, sshserver, sshkey, password, paramiko, timeout, cluster_id, **extra_args)\u001b[0m\n\u001b[0;32m    409\u001b[0m             )\n\u001b[0;32m    410\u001b[0m \u001b[1;33m\u001b[0m\u001b[0m\n\u001b[1;32m--> 411\u001b[1;33m         \u001b[1;32mwith\u001b[0m \u001b[0mopen\u001b[0m\u001b[1;33m(\u001b[0m\u001b[0murl_file\u001b[0m\u001b[1;33m)\u001b[0m \u001b[1;32mas\u001b[0m \u001b[0mf\u001b[0m\u001b[1;33m:\u001b[0m\u001b[1;33m\u001b[0m\u001b[0m\n\u001b[0m\u001b[0;32m    412\u001b[0m             \u001b[0mcfg\u001b[0m \u001b[1;33m=\u001b[0m \u001b[0mjson\u001b[0m\u001b[1;33m.\u001b[0m\u001b[0mload\u001b[0m\u001b[1;33m(\u001b[0m\u001b[0mf\u001b[0m\u001b[1;33m)\u001b[0m\u001b[1;33m\u001b[0m\u001b[0m\n\u001b[0;32m    413\u001b[0m \u001b[1;33m\u001b[0m\u001b[0m\n",
        "\u001b[1;31mIOError\u001b[0m: [Errno 2] No such file or directory: u'/home/freegnu/.ipython/profile_notebook/security/ipcontroller-client.json'"
       ]
      }
     ],
     "prompt_number": 10
    },
    {
     "cell_type": "code",
     "collapsed": false,
     "input": [
      "with rc.sync_imports():\n",
      "    import collections\n",
      "    import datetime\n",
      "    import decimal\n",
      "    import fractions\n",
      "    import functools\n",
      "    import itertools\n",
      "    import logging\n",
      "    import math\n",
      "    import multiprocessing\n",
      "    import operator\n",
      "    import os\n",
      "    import pprint\n",
      "    import random\n",
      "    import threading\n",
      "    import time\n",
      "    #import numba\n",
      "    import numpy\n",
      "    import scipy\n",
      "    import sympy\n",
      "    import pandas\n",
      "    import statsmodels\n",
      "    import sklearn"
     ],
     "language": "python",
     "metadata": {},
     "outputs": [
      {
       "ename": "NameError",
       "evalue": "name 'rc' is not defined",
       "output_type": "pyerr",
       "traceback": [
        "\u001b[0;31m---------------------------------------------------------------------------\u001b[0m\n\u001b[0;31mNameError\u001b[0m                                 Traceback (most recent call last)",
        "\u001b[0;32m<ipython-input-1-a8751739c8cc>\u001b[0m in \u001b[0;36m<module>\u001b[0;34m()\u001b[0m\n\u001b[0;32m----> 1\u001b[0;31m \u001b[0;32mwith\u001b[0m \u001b[0mrc\u001b[0m\u001b[0;34m.\u001b[0m\u001b[0msync_imports\u001b[0m\u001b[0;34m(\u001b[0m\u001b[0;34m)\u001b[0m\u001b[0;34m:\u001b[0m\u001b[0;34m\u001b[0m\u001b[0m\n\u001b[0m\u001b[1;32m      2\u001b[0m     \u001b[0;32mimport\u001b[0m \u001b[0mcollections\u001b[0m\u001b[0;34m\u001b[0m\u001b[0m\n\u001b[1;32m      3\u001b[0m     \u001b[0;32mimport\u001b[0m \u001b[0mdatetime\u001b[0m\u001b[0;34m\u001b[0m\u001b[0m\n\u001b[1;32m      4\u001b[0m     \u001b[0;32mimport\u001b[0m \u001b[0mdecimal\u001b[0m\u001b[0;34m\u001b[0m\u001b[0m\n\u001b[1;32m      5\u001b[0m     \u001b[0;32mimport\u001b[0m \u001b[0mfractions\u001b[0m\u001b[0;34m\u001b[0m\u001b[0m\n",
        "\u001b[0;31mNameError\u001b[0m: name 'rc' is not defined"
       ]
      }
     ],
     "prompt_number": 1
    },
    {
     "cell_type": "code",
     "collapsed": false,
     "input": [
      "import collections\n",
      "import datetime\n",
      "import decimal\n",
      "import fractions\n",
      "import functools\n",
      "import itertools\n",
      "import logging\n",
      "import math\n",
      "import multiprocessing\n",
      "import operator\n",
      "import os\n",
      "import pprint\n",
      "import random\n",
      "import threading\n",
      "import time\n",
      "#import numba\n",
      "import numpy\n",
      "import scipy\n",
      "import sympy\n",
      "import pandas\n",
      "import statsmodels\n",
      "import sklearn"
     ],
     "language": "python",
     "metadata": {},
     "outputs": [],
     "prompt_number": 1
    },
    {
     "cell_type": "markdown",
     "metadata": {},
     "source": [
      "zip map izip"
     ]
    },
    {
     "cell_type": "code",
     "collapsed": false,
     "input": [
      "zip(['a','b','c'],[1,2])"
     ],
     "language": "python",
     "metadata": {},
     "outputs": [
      {
       "metadata": {},
       "output_type": "pyout",
       "prompt_number": 445,
       "text": [
        "[('a', 1), ('b', 2)]"
       ]
      }
     ],
     "prompt_number": 445
    },
    {
     "cell_type": "code",
     "collapsed": false,
     "input": [
      "list(itertools.izip(['a','b','c'],[1,2]))"
     ],
     "language": "python",
     "metadata": {},
     "outputs": [
      {
       "metadata": {},
       "output_type": "pyout",
       "prompt_number": 447,
       "text": [
        "[('a', 1), ('b', 2)]"
       ]
      }
     ],
     "prompt_number": 447
    },
    {
     "cell_type": "code",
     "collapsed": false,
     "input": [
      "map(None,['a','b','c'],[1,2])"
     ],
     "language": "python",
     "metadata": {},
     "outputs": [
      {
       "metadata": {},
       "output_type": "pyout",
       "prompt_number": 450,
       "text": [
        "[('a', 1), ('b', 2), ('c', None)]"
       ]
      }
     ],
     "prompt_number": 450
    },
    {
     "cell_type": "code",
     "collapsed": true,
     "input": [
      "#client.ids"
     ],
     "language": "python",
     "metadata": {},
     "outputs": [],
     "prompt_number": 9
    },
    {
     "cell_type": "markdown",
     "metadata": {},
     "source": [
      "####Problem 18 Maximum Path Sum\n",
      "\n",
      "By starting at the top of the triangle below and moving to adjacent numbers on the row below, the maximum total from top to bottom is 23.\n",
      "\n",
      "    3\n",
      "    7 4\n",
      "    2 4 6\n",
      "    8 5 9 3\n",
      "\n",
      "That is, 3 + 7 + 4 + 9 = 23.\n",
      "\n",
      "Find the maximum total from top to bottom of the triangle below:\n",
      "\n",
      "    75\n",
      "    95 64\n",
      "    17 47 82\n",
      "    18 35 87 10\n",
      "    20 04 82 47 65\n",
      "    19 01 23 75 03 34\n",
      "    88 02 77 73 07 63 67\n",
      "    99 65 04 28 06 16 70 92\n",
      "    41 41 26 56 83 40 80 70 33\n",
      "    41 48 72 33 47 32 37 16 94 29\n",
      "    53 71 44 65 25 43 91 52 97 51 14\n",
      "    70 11 33 28 77 73 17 78 39 68 17 57\n",
      "    91 71 52 38 17 14 91 43 58 50 27 29 48\n",
      "    63 66 04 68 89 53 67 30 73 16 69 87 40 31\n",
      "    04 62 98 27 23 09 70 98 73 93 38 53 60 04 23\n",
      "\n",
      "NOTE: As there are only 16384 routes, it is possible to solve this problem by trying every route. However, Problem 67, is the same challenge with a triangle containing one-hundred rows; it cannot be solved by brute force, and requires a clever method! ;o)"
     ]
    },
    {
     "cell_type": "code",
     "collapsed": false,
     "input": [
      "def triangle(t): return [i.split() for i in t.split('\\n')]\n",
      "test_triangle_text = \"\"\"3\n",
      "7 4\n",
      "2 4 6\n",
      "8 5 9 3\"\"\"\n",
      "test_triangle = triangle(test_triangle_text)\n",
      "test_triangle"
     ],
     "language": "python",
     "metadata": {},
     "outputs": [
      {
       "metadata": {},
       "output_type": "pyout",
       "prompt_number": 8,
       "text": [
        "[[], ['3'], ['7', '4'], ['2', '4', '6'], ['8', '5', '9', '3']]"
       ]
      }
     ],
     "prompt_number": 8
    },
    {
     "cell_type": "code",
     "collapsed": false,
     "input": [
      "p18_triangle_text = \"\"\"75\n",
      "95 64\n",
      "17 47 82\n",
      "18 35 87 10\n",
      "20 04 82 47 65\n",
      "19 01 23 75 03 34\n",
      "88 02 77 73 07 63 67\n",
      "99 65 04 28 06 16 70 92\n",
      "41 41 26 56 83 40 80 70 33\n",
      "41 48 72 33 47 32 37 16 94 29\n",
      "53 71 44 65 25 43 91 52 97 51 14\n",
      "70 11 33 28 77 73 17 78 39 68 17 57\n",
      "91 71 52 38 17 14 91 43 58 50 27 29 48\n",
      "63 66 04 68 89 53 67 30 73 16 69 87 40 31\n",
      "04 62 98 27 23 09 70 98 73 93 38 53 60 04 23\"\"\"\n",
      "p18_triangle = triangle(p18_triangle_text)"
     ],
     "language": "python",
     "metadata": {},
     "outputs": [],
     "prompt_number": 10
    },
    {
     "cell_type": "code",
     "collapsed": false,
     "input": [
      "class Node(object):\n",
      "    def __init__(self,value,left=None,right=None,max_left=None,max_right=None):\n",
      "        self.value = value\n",
      "        self.left = left\n",
      "        self.right = right\n",
      "        self.max_left = None\n",
      "        self.max_right = max_right\n",
      "class Triangle(object):\n",
      "    def __init__(self,t):\n",
      "        self.t = t\n",
      "        "
     ],
     "language": "python",
     "metadata": {},
     "outputs": []
    },
    {
     "cell_type": "markdown",
     "metadata": {},
     "source": [
      "####Problem 17\n",
      "\n",
      "If the numbers 1 to 5 are written out in words: one, two, three, four, five, then there are 3 + 3 + 5 + 4 + 4 = 19 letters used in total.\n",
      "\n",
      "If all the numbers from 1 to 1000 (one thousand) inclusive were written out in words, how many letters would be used?\n",
      "\n",
      "NOTE: Do not count spaces or hyphens. For example, 342 (three hundred and forty-two) contains 23 letters and 115 (one hundred and fifteen) contains 20 letters. The use of \"and\" when writing out numbers is in compliance with British usage."
     ]
    },
    {
     "cell_type": "code",
     "collapsed": false,
     "input": [
      "ones = 'one two three four five six seven eight nine'.split()\n",
      "teens = 'ten eleven twelve thirteen fourteen fifteen sixteen seventeen eighteen nineteen'.split()\n",
      "tens = 'twenty thirty forty fifty sixty seventy eighty ninety'.split()\n",
      "hundred = 'hundred'\n",
      "thousand = 'onethousand'\n",
      "n_ones = sum(len(i) for i in ones)\n",
      "n_teens = sum(len(i) for i in teens)\n",
      "n_tens = sum(len(i) for i in tens) * 10 + (n_ones * 8)\n",
      "n_hundred = (len(hundred) * 100) + (3*99) + n_tens + n_teens + n_ones\n",
      "n_hundreds = (n_ones * 100) + (n_hundred * 9) + n_tens + n_teens + n_ones\n",
      "n_thousand = len(thousand) + n_hundreds\n",
      "n_thousand"
     ],
     "language": "python",
     "metadata": {},
     "outputs": [
      {
       "metadata": {},
       "output_type": "pyout",
       "prompt_number": 4,
       "text": [
        "21124"
       ]
      }
     ],
     "prompt_number": 4
    },
    {
     "cell_type": "markdown",
     "metadata": {},
     "source": [
      "Fibonacci sequences"
     ]
    },
    {
     "cell_type": "code",
     "collapsed": false,
     "input": [
      "mp = numpy.frompyfunc(functools.partial(numpy.linalg.matrix_power,numpy.array([[1,1],[1,0]],dtype='i16')),1,1)\n",
      "def matrix_powers(n):\n",
      "    return numpy.array(list(mp(n)),dtype='i16')"
     ],
     "language": "python",
     "metadata": {},
     "outputs": [],
     "prompt_number": 53
    },
    {
     "cell_type": "code",
     "collapsed": false,
     "input": [
      "matrix_powers(numpy.arange(10001))[-1,0,0]"
     ],
     "language": "python",
     "metadata": {},
     "outputs": [
      {
       "metadata": {},
       "output_type": "pyout",
       "prompt_number": 54,
       "text": [
        "2132534333"
       ]
      }
     ],
     "prompt_number": 54
    },
    {
     "cell_type": "code",
     "collapsed": false,
     "input": [
      "%timeit matrix_powers(numpy.arange(10001+1))[:,0,1]"
     ],
     "language": "python",
     "metadata": {},
     "outputs": [
      {
       "output_type": "stream",
       "stream": "stdout",
       "text": [
        "1 loops, best of 3: 339 ms per loop\n"
       ]
      }
     ],
     "prompt_number": 55
    },
    {
     "cell_type": "code",
     "collapsed": false,
     "input": [
      "%timeit matrix_powers(numpy.arange(30+1))[:,0,1]"
     ],
     "language": "python",
     "metadata": {},
     "outputs": [
      {
       "output_type": "stream",
       "stream": "stdout",
       "text": [
        "1000 loops, best of 3: 632 \u00b5s per loop\n"
       ]
      }
     ],
     "prompt_number": 56
    },
    {
     "cell_type": "code",
     "collapsed": false,
     "input": [
      "def fib(n):\n",
      "    return (numpy.matrix([[1, 1], [1, 0]],dtype='i16') ** (n-1))[0, 0]"
     ],
     "language": "python",
     "metadata": {},
     "outputs": [],
     "prompt_number": 57
    },
    {
     "cell_type": "code",
     "collapsed": false,
     "input": [
      "fib(10001)"
     ],
     "language": "python",
     "metadata": {},
     "outputs": [
      {
       "metadata": {},
       "output_type": "pyout",
       "prompt_number": 58,
       "text": [
        "2132534333"
       ]
      }
     ],
     "prompt_number": 58
    },
    {
     "cell_type": "code",
     "collapsed": false,
     "input": [
      "%timeit fib(10001)"
     ],
     "language": "python",
     "metadata": {},
     "outputs": [
      {
       "output_type": "stream",
       "stream": "stdout",
       "text": [
        "10000 loops, best of 3: 84.6 \u00b5s per loop\n"
       ]
      }
     ],
     "prompt_number": 59
    },
    {
     "cell_type": "code",
     "collapsed": false,
     "input": [
      "%timeit fib(30)"
     ],
     "language": "python",
     "metadata": {},
     "outputs": [
      {
       "output_type": "stream",
       "stream": "stdout",
       "text": [
        "10000 loops, best of 3: 55 \u00b5s per loop\n"
       ]
      }
     ],
     "prompt_number": 60
    },
    {
     "cell_type": "markdown",
     "metadata": {},
     "source": [
      "The phi version of calculating Fibonacci numbers below is broken for bigger Fibonacci numbers\n",
      "#TODO rewrite a fast phi version that works for bigger Fibonacci numbers"
     ]
    },
    {
     "cell_type": "code",
     "collapsed": false,
     "input": [
      "def fibphi(n):\n",
      "    a = numpy.arange(1, n+1,dtype='i16')\n",
      "    sqrt5 = numpy.sqrt(5)\n",
      "    phi = (1 + sqrt5)/2\n",
      "    return numpy.r_[0,(phi**a - (-1/phi)**a)/sqrt5].astype('i16')"
     ],
     "language": "python",
     "metadata": {},
     "outputs": [],
     "prompt_number": 74
    },
    {
     "cell_type": "code",
     "collapsed": false,
     "input": [
      "print \"Fibonacci\", fibphi(30)[-1]"
     ],
     "language": "python",
     "metadata": {},
     "outputs": [
      {
       "output_type": "stream",
       "stream": "stdout",
       "text": [
        "Fibonacci 832040\n"
       ]
      }
     ],
     "prompt_number": 75
    },
    {
     "cell_type": "code",
     "collapsed": false,
     "input": [
      "%timeit fibphi(30)[-1]"
     ],
     "language": "python",
     "metadata": {},
     "outputs": [
      {
       "output_type": "stream",
       "stream": "stdout",
       "text": [
        "10000 loops, best of 3: 58.2 \u00b5s per loop\n"
       ]
      }
     ],
     "prompt_number": 76
    },
    {
     "cell_type": "markdown",
     "metadata": {},
     "source": [
      "####Problem16\n",
      "\n",
      "2**15 = 32768 and the sum of its digits is 3 + 2 + 7 + 6 + 8 = 26.\n",
      "\n",
      "What is the sum of the digits of the number 2**1000?"
     ]
    },
    {
     "cell_type": "code",
     "collapsed": false,
     "input": [
      "def sumOfDigits1(n): return sum(int(i) for i in str(n))"
     ],
     "language": "python",
     "metadata": {},
     "outputs": [],
     "prompt_number": 26
    },
    {
     "cell_type": "code",
     "collapsed": false,
     "input": [
      "def sumOfDigits2(n):\n",
      "    tot = 0\n",
      "    q,r = divmod(n,10)\n",
      "    while q or r:\n",
      "        tot = tot + r\n",
      "        q,r = divmod(q,10)\n",
      "    return tot"
     ],
     "language": "python",
     "metadata": {},
     "outputs": [],
     "prompt_number": 31
    },
    {
     "cell_type": "code",
     "collapsed": false,
     "input": [
      "sumOfDigits1(2**1000)"
     ],
     "language": "python",
     "metadata": {},
     "outputs": [
      {
       "metadata": {},
       "output_type": "pyout",
       "prompt_number": 36,
       "text": [
        "1366"
       ]
      }
     ],
     "prompt_number": 36
    },
    {
     "cell_type": "code",
     "collapsed": false,
     "input": [
      "%timeit sumOfDigits1(2**1000)"
     ],
     "language": "python",
     "metadata": {},
     "outputs": [
      {
       "output_type": "stream",
       "stream": "stdout",
       "text": [
        "10000 loops, best of 3: 111 \u00b5s per loop\n"
       ]
      }
     ],
     "prompt_number": 39
    },
    {
     "cell_type": "code",
     "collapsed": false,
     "input": [
      "sumOfDigits2(2**1000)"
     ],
     "language": "python",
     "metadata": {},
     "outputs": [
      {
       "metadata": {},
       "output_type": "pyout",
       "prompt_number": 38,
       "text": [
        "1366L"
       ]
      }
     ],
     "prompt_number": 38
    },
    {
     "cell_type": "code",
     "collapsed": false,
     "input": [
      "%timeit sumOfDigits2(2**1000)"
     ],
     "language": "python",
     "metadata": {},
     "outputs": [
      {
       "output_type": "stream",
       "stream": "stdout",
       "text": [
        "10000 loops, best of 3: 140 \u00b5s per loop\n"
       ]
      }
     ],
     "prompt_number": 40
    },
    {
     "cell_type": "markdown",
     "metadata": {},
     "source": [
      "####Problem15\n",
      "\n",
      "Starting in the top left corner of a 2\u00d72 grid, and only being able to move to the right and down, there are exactly 6 routes to the bottom right corner.\n",
      "\n",
      "\n",
      "How many such routes are there through a 20\u00d720 grid?"
     ]
    },
    {
     "cell_type": "code",
     "collapsed": false,
     "input": [
      "def pt_row(n):\n",
      "    if n == 0: return [1]\n",
      "    row = map(fractions.Fraction,range(n,0,-1),range(1,n+1))[:(n/2)]\n",
      "    row = [int(reduce(operator.mul,row[:i])) for i in range(1,len(row)+1)]\n",
      "    return [1] + row + row[-1 if n%2 else -2::-1] + [1]\n",
      "def pt(n):\n",
      "    if n == 0: return [[1]]\n",
      "    t = pt(n-1)\n",
      "    u = [0] + t[-1] + [0]\n",
      "    return t + [[u[i]+u[i+1] for i in range(n+1)]]\n",
      "def right_down(n,xy=None):\n",
      "    if not hasattr(right_down,'cache'):\n",
      "        right_down.cache = {(0,0):1,(0,1):1,(1,0):1,(1,1):2}\n",
      "    if xy is None:\n",
      "        if (n,n) in right_down.cache: return right_down.cache[(n,n)]\n",
      "        if n > 1:\n",
      "            right_down(n-1)\n",
      "            right_down.cache[(n,n)] = right_down(n,(n-1,n)) + right_down(n,(n,n-1))\n",
      "            return right_down.cache[(n,n)]\n",
      "    if n == 0: return 1\n",
      "    if n == 1: return 2\n",
      "    if n > 1:\n",
      "        if xy in right_down.cache: return right_down.cache[xy]\n",
      "        if xy[::-1] in right_down.cache:\n",
      "            right_down.cache[xy] = right_down.cache[xy[::-1]]\n",
      "            return right_down.cache[xy]\n",
      "        if xy[0] > 0 < xy[1]:\n",
      "            right_down.cache[xy] = right_down(n,(xy[0]-1,xy[1])) + right_down(n,(xy[0],xy[1]-1))\n",
      "            return right_down.cache[xy]\n",
      "        if xy[0] > 0:\n",
      "            right_down.cache[xy] = right_down(n,(xy[0]-1,xy[1]))\n",
      "            return right_down.cache[xy]\n",
      "        if xy[1] > 0:\n",
      "            right_down.cache[xy] = right_down(n,(xy[0],xy[1]-1))\n",
      "            return right_down.cache[xy]"
     ],
     "language": "python",
     "metadata": {},
     "outputs": [],
     "prompt_number": 22
    },
    {
     "cell_type": "code",
     "collapsed": false,
     "input": [
      "right_down(20)"
     ],
     "language": "python",
     "metadata": {},
     "outputs": [
      {
       "metadata": {},
       "output_type": "pyout",
       "prompt_number": 23,
       "text": [
        "137846528820"
       ]
      }
     ],
     "prompt_number": 23
    },
    {
     "cell_type": "markdown",
     "metadata": {},
     "source": [
      "####Problem 14\n",
      "\n",
      "The following iterative sequence is defined for the set of positive integers:\n",
      "\n",
      "n \u2192 n/2 (n is even)\n",
      "n \u2192 3n + 1 (n is odd)\n",
      "\n",
      "Using the rule above and starting with 13, we generate the following sequence:\n",
      "\n",
      "13 \u2192 40 \u2192 20 \u2192 10 \u2192 5 \u2192 16 \u2192 8 \u2192 4 \u2192 2 \u2192 1\n",
      "It can be seen that this sequence (starting at 13 and finishing at 1) contains 10 terms. Although it has not been proved yet (Collatz Problem), it is thought that all starting numbers finish at 1.\n",
      "\n",
      "Which starting number, under one million, produces the longest chain?\n",
      "\n",
      "NOTE: Once the chain starts the terms are allowed to go above one million."
     ]
    },
    {
     "cell_type": "code",
     "collapsed": false,
     "input": [
      "def collatz(n):\n",
      "    if not hasattr(collatz,'cache'):\n",
      "        collatz.cache = collections.defaultdict(list)\n",
      "        collatz.cache[1] += [1]\n",
      "    if collatz.cache[n]: return collatz.cache[n]\n",
      "    collatz.cache[n] = [n] + collatz(((3*n)+1) if n%2 else (n/2))\n",
      "    return collatz.cache[n]\n",
      "collatz.cache = collections.defaultdict(list)\n",
      "collatz.cache[1] += [1]\n",
      "rc.push({'collatz':collatz})"
     ],
     "language": "python",
     "metadata": {},
     "outputs": [
      {
       "metadata": {},
       "output_type": "pyout",
       "prompt_number": 23,
       "text": [
        "<AsyncResult: _push>"
       ]
      }
     ],
     "prompt_number": 23
    },
    {
     "cell_type": "code",
     "collapsed": false,
     "input": [
      "collatz(100)"
     ],
     "language": "python",
     "metadata": {},
     "outputs": [
      {
       "metadata": {},
       "output_type": "pyout",
       "prompt_number": 25,
       "text": [
        "[100,\n",
        " 50,\n",
        " 25,\n",
        " 76,\n",
        " 38,\n",
        " 19,\n",
        " 58,\n",
        " 29,\n",
        " 88,\n",
        " 44,\n",
        " 22,\n",
        " 11,\n",
        " 34,\n",
        " 17,\n",
        " 52,\n",
        " 26,\n",
        " 13,\n",
        " 40,\n",
        " 20,\n",
        " 10,\n",
        " 5,\n",
        " 16,\n",
        " 8,\n",
        " 4,\n",
        " 2,\n",
        " 1]"
       ]
      }
     ],
     "prompt_number": 25
    },
    {
     "cell_type": "code",
     "collapsed": false,
     "input": [
      "collatz_result = rc.map(collatz,range(1000000,1,-1),block=True)"
     ],
     "language": "python",
     "metadata": {},
     "outputs": [],
     "prompt_number": 33
    },
    {
     "cell_type": "code",
     "collapsed": false,
     "input": [
      "collatz_max = max(collatz_result,key=len)\n",
      "collatz_max[0],len(collatz_result)"
     ],
     "language": "python",
     "metadata": {},
     "outputs": [
      {
       "metadata": {},
       "output_type": "pyout",
       "prompt_number": 34,
       "text": [
        "(837799, 999999)"
       ]
      }
     ],
     "prompt_number": 34
    },
    {
     "cell_type": "markdown",
     "metadata": {},
     "source": [
      "#### Problem 13\n",
      "\n",
      "Work out the first ten digits of the sum of the following one-hundred 50-digit numbers.\n",
      "<pre>\n",
      "37107287533902102798797998220837590246510135740250\n",
      "46376937677490009712648124896970078050417018260538\n",
      "74324986199524741059474233309513058123726617309629\n",
      "91942213363574161572522430563301811072406154908250\n",
      "23067588207539346171171980310421047513778063246676\n",
      "89261670696623633820136378418383684178734361726757\n",
      "28112879812849979408065481931592621691275889832738\n",
      "44274228917432520321923589422876796487670272189318\n",
      "47451445736001306439091167216856844588711603153276\n",
      "70386486105843025439939619828917593665686757934951\n",
      "62176457141856560629502157223196586755079324193331\n",
      "64906352462741904929101432445813822663347944758178\n",
      "92575867718337217661963751590579239728245598838407\n",
      "58203565325359399008402633568948830189458628227828\n",
      "80181199384826282014278194139940567587151170094390\n",
      "35398664372827112653829987240784473053190104293586\n",
      "86515506006295864861532075273371959191420517255829\n",
      "71693888707715466499115593487603532921714970056938\n",
      "54370070576826684624621495650076471787294438377604\n",
      "53282654108756828443191190634694037855217779295145\n",
      "36123272525000296071075082563815656710885258350721\n",
      "45876576172410976447339110607218265236877223636045\n",
      "17423706905851860660448207621209813287860733969412\n",
      "81142660418086830619328460811191061556940512689692\n",
      "51934325451728388641918047049293215058642563049483\n",
      "62467221648435076201727918039944693004732956340691\n",
      "15732444386908125794514089057706229429197107928209\n",
      "55037687525678773091862540744969844508330393682126\n",
      "18336384825330154686196124348767681297534375946515\n",
      "80386287592878490201521685554828717201219257766954\n",
      "78182833757993103614740356856449095527097864797581\n",
      "16726320100436897842553539920931837441497806860984\n",
      "48403098129077791799088218795327364475675590848030\n",
      "87086987551392711854517078544161852424320693150332\n",
      "59959406895756536782107074926966537676326235447210\n",
      "69793950679652694742597709739166693763042633987085\n",
      "41052684708299085211399427365734116182760315001271\n",
      "65378607361501080857009149939512557028198746004375\n",
      "35829035317434717326932123578154982629742552737307\n",
      "94953759765105305946966067683156574377167401875275\n",
      "88902802571733229619176668713819931811048770190271\n",
      "25267680276078003013678680992525463401061632866526\n",
      "36270218540497705585629946580636237993140746255962\n",
      "24074486908231174977792365466257246923322810917141\n",
      "91430288197103288597806669760892938638285025333403\n",
      "34413065578016127815921815005561868836468420090470\n",
      "23053081172816430487623791969842487255036638784583\n",
      "11487696932154902810424020138335124462181441773470\n",
      "63783299490636259666498587618221225225512486764533\n",
      "67720186971698544312419572409913959008952310058822\n",
      "95548255300263520781532296796249481641953868218774\n",
      "76085327132285723110424803456124867697064507995236\n",
      "37774242535411291684276865538926205024910326572967\n",
      "23701913275725675285653248258265463092207058596522\n",
      "29798860272258331913126375147341994889534765745501\n",
      "18495701454879288984856827726077713721403798879715\n",
      "38298203783031473527721580348144513491373226651381\n",
      "34829543829199918180278916522431027392251122869539\n",
      "40957953066405232632538044100059654939159879593635\n",
      "29746152185502371307642255121183693803580388584903\n",
      "41698116222072977186158236678424689157993532961922\n",
      "62467957194401269043877107275048102390895523597457\n",
      "23189706772547915061505504953922979530901129967519\n",
      "86188088225875314529584099251203829009407770775672\n",
      "11306739708304724483816533873502340845647058077308\n",
      "82959174767140363198008187129011875491310547126581\n",
      "97623331044818386269515456334926366572897563400500\n",
      "42846280183517070527831839425882145521227251250327\n",
      "55121603546981200581762165212827652751691296897789\n",
      "32238195734329339946437501907836945765883352399886\n",
      "75506164965184775180738168837861091527357929701337\n",
      "62177842752192623401942399639168044983993173312731\n",
      "32924185707147349566916674687634660915035914677504\n",
      "99518671430235219628894890102423325116913619626622\n",
      "73267460800591547471830798392868535206946944540724\n",
      "76841822524674417161514036427982273348055556214818\n",
      "97142617910342598647204516893989422179826088076852\n",
      "87783646182799346313767754307809363333018982642090\n",
      "10848802521674670883215120185883543223812876952786\n",
      "71329612474782464538636993009049310363619763878039\n",
      "62184073572399794223406235393808339651327408011116\n",
      "66627891981488087797941876876144230030984490851411\n",
      "60661826293682836764744779239180335110989069790714\n",
      "85786944089552990653640447425576083659976645795096\n",
      "66024396409905389607120198219976047599490197230297\n",
      "64913982680032973156037120041377903785566085089252\n",
      "16730939319872750275468906903707539413042652315011\n",
      "94809377245048795150954100921645863754710598436791\n",
      "78639167021187492431995700641917969777599028300699\n",
      "15368713711936614952811305876380278410754449733078\n",
      "40789923115535562561142322423255033685442488917353\n",
      "44889911501440648020369068063960672322193204149535\n",
      "41503128880339536053299340368006977710650566631954\n",
      "81234880673210146739058568557934581403627822703280\n",
      "82616570773948327592232845941706525094512325230608\n",
      "22918802058777319719839450180888072429661980811197\n",
      "77158542502016545090413245809786882778948721859617\n",
      "72107838435069186155435662884062257473692284509516\n",
      "20849603980134001723930671666823555245252804609722\n",
      "53503534226472524250874054075591789781264330331690\n",
      "</pre>"
     ]
    },
    {
     "cell_type": "code",
     "collapsed": false,
     "input": [
      "numbers = [int(i) for i in '''\n",
      "37107287533902102798797998220837590246510135740250\n",
      "46376937677490009712648124896970078050417018260538\n",
      "74324986199524741059474233309513058123726617309629\n",
      "91942213363574161572522430563301811072406154908250\n",
      "23067588207539346171171980310421047513778063246676\n",
      "89261670696623633820136378418383684178734361726757\n",
      "28112879812849979408065481931592621691275889832738\n",
      "44274228917432520321923589422876796487670272189318\n",
      "47451445736001306439091167216856844588711603153276\n",
      "70386486105843025439939619828917593665686757934951\n",
      "62176457141856560629502157223196586755079324193331\n",
      "64906352462741904929101432445813822663347944758178\n",
      "92575867718337217661963751590579239728245598838407\n",
      "58203565325359399008402633568948830189458628227828\n",
      "80181199384826282014278194139940567587151170094390\n",
      "35398664372827112653829987240784473053190104293586\n",
      "86515506006295864861532075273371959191420517255829\n",
      "71693888707715466499115593487603532921714970056938\n",
      "54370070576826684624621495650076471787294438377604\n",
      "53282654108756828443191190634694037855217779295145\n",
      "36123272525000296071075082563815656710885258350721\n",
      "45876576172410976447339110607218265236877223636045\n",
      "17423706905851860660448207621209813287860733969412\n",
      "81142660418086830619328460811191061556940512689692\n",
      "51934325451728388641918047049293215058642563049483\n",
      "62467221648435076201727918039944693004732956340691\n",
      "15732444386908125794514089057706229429197107928209\n",
      "55037687525678773091862540744969844508330393682126\n",
      "18336384825330154686196124348767681297534375946515\n",
      "80386287592878490201521685554828717201219257766954\n",
      "78182833757993103614740356856449095527097864797581\n",
      "16726320100436897842553539920931837441497806860984\n",
      "48403098129077791799088218795327364475675590848030\n",
      "87086987551392711854517078544161852424320693150332\n",
      "59959406895756536782107074926966537676326235447210\n",
      "69793950679652694742597709739166693763042633987085\n",
      "41052684708299085211399427365734116182760315001271\n",
      "65378607361501080857009149939512557028198746004375\n",
      "35829035317434717326932123578154982629742552737307\n",
      "94953759765105305946966067683156574377167401875275\n",
      "88902802571733229619176668713819931811048770190271\n",
      "25267680276078003013678680992525463401061632866526\n",
      "36270218540497705585629946580636237993140746255962\n",
      "24074486908231174977792365466257246923322810917141\n",
      "91430288197103288597806669760892938638285025333403\n",
      "34413065578016127815921815005561868836468420090470\n",
      "23053081172816430487623791969842487255036638784583\n",
      "11487696932154902810424020138335124462181441773470\n",
      "63783299490636259666498587618221225225512486764533\n",
      "67720186971698544312419572409913959008952310058822\n",
      "95548255300263520781532296796249481641953868218774\n",
      "76085327132285723110424803456124867697064507995236\n",
      "37774242535411291684276865538926205024910326572967\n",
      "23701913275725675285653248258265463092207058596522\n",
      "29798860272258331913126375147341994889534765745501\n",
      "18495701454879288984856827726077713721403798879715\n",
      "38298203783031473527721580348144513491373226651381\n",
      "34829543829199918180278916522431027392251122869539\n",
      "40957953066405232632538044100059654939159879593635\n",
      "29746152185502371307642255121183693803580388584903\n",
      "41698116222072977186158236678424689157993532961922\n",
      "62467957194401269043877107275048102390895523597457\n",
      "23189706772547915061505504953922979530901129967519\n",
      "86188088225875314529584099251203829009407770775672\n",
      "11306739708304724483816533873502340845647058077308\n",
      "82959174767140363198008187129011875491310547126581\n",
      "97623331044818386269515456334926366572897563400500\n",
      "42846280183517070527831839425882145521227251250327\n",
      "55121603546981200581762165212827652751691296897789\n",
      "32238195734329339946437501907836945765883352399886\n",
      "75506164965184775180738168837861091527357929701337\n",
      "62177842752192623401942399639168044983993173312731\n",
      "32924185707147349566916674687634660915035914677504\n",
      "99518671430235219628894890102423325116913619626622\n",
      "73267460800591547471830798392868535206946944540724\n",
      "76841822524674417161514036427982273348055556214818\n",
      "97142617910342598647204516893989422179826088076852\n",
      "87783646182799346313767754307809363333018982642090\n",
      "10848802521674670883215120185883543223812876952786\n",
      "71329612474782464538636993009049310363619763878039\n",
      "62184073572399794223406235393808339651327408011116\n",
      "66627891981488087797941876876144230030984490851411\n",
      "60661826293682836764744779239180335110989069790714\n",
      "85786944089552990653640447425576083659976645795096\n",
      "66024396409905389607120198219976047599490197230297\n",
      "64913982680032973156037120041377903785566085089252\n",
      "16730939319872750275468906903707539413042652315011\n",
      "94809377245048795150954100921645863754710598436791\n",
      "78639167021187492431995700641917969777599028300699\n",
      "15368713711936614952811305876380278410754449733078\n",
      "40789923115535562561142322423255033685442488917353\n",
      "44889911501440648020369068063960672322193204149535\n",
      "41503128880339536053299340368006977710650566631954\n",
      "81234880673210146739058568557934581403627822703280\n",
      "82616570773948327592232845941706525094512325230608\n",
      "22918802058777319719839450180888072429661980811197\n",
      "77158542502016545090413245809786882778948721859617\n",
      "72107838435069186155435662884062257473692284509516\n",
      "20849603980134001723930671666823555245252804609722\n",
      "53503534226472524250874054075591789781264330331690\n",
      "'''.split()]\n",
      "len(numbers),sum(numbers)"
     ],
     "language": "python",
     "metadata": {},
     "outputs": [
      {
       "metadata": {},
       "output_type": "pyout",
       "prompt_number": 3,
       "text": [
        "(100, 5537376230390876637302048746832985971773659831892672L)"
       ]
      }
     ],
     "prompt_number": 3
    },
    {
     "cell_type": "code",
     "collapsed": false,
     "input": [
      "def numpy_primes(n):\n",
      "    primes = numpy.arange(3,n,2)\n",
      "    for i in xrange(3,int(n**0.5)+1,2):\n",
      "        if primes[(i-3)/2]: primes[(i*i-3)/2::i] = 0\n",
      "    #return np.r_[2,primes[primes!=0]]\n",
      "    return numpy.r_[2,primes[primes!=0]]"
     ],
     "language": "python",
     "metadata": {},
     "outputs": [],
     "prompt_number": 4
    },
    {
     "cell_type": "code",
     "collapsed": false,
     "input": [
      "numpy_primes(105000)[10000]"
     ],
     "language": "python",
     "metadata": {},
     "outputs": [
      {
       "metadata": {},
       "output_type": "pyout",
       "prompt_number": 5,
       "text": [
        "104743"
       ]
      }
     ],
     "prompt_number": 5
    },
    {
     "cell_type": "code",
     "collapsed": false,
     "input": [
      "%timeit numpy_primes(105000)[10000]"
     ],
     "language": "python",
     "metadata": {},
     "outputs": [
      {
       "output_type": "stream",
       "stream": "stdout",
       "text": [
        "1000 loops, best of 3: 735 \u00b5s per loop\n"
       ]
      }
     ],
     "prompt_number": 6
    },
    {
     "cell_type": "code",
     "collapsed": false,
     "input": [
      "pl = numpy_primes(50)\n",
      "pl.size\n",
      "pl"
     ],
     "language": "python",
     "metadata": {},
     "outputs": [
      {
       "metadata": {},
       "output_type": "pyout",
       "prompt_number": 10,
       "text": [
        "array([ 2,  3,  5,  7, 11, 13, 17, 19, 23, 29, 31, 37, 41, 43, 47])"
       ]
      }
     ],
     "prompt_number": 10
    },
    {
     "cell_type": "code",
     "collapsed": false,
     "input": [
      "def primes(n):\n",
      "    c = n\n",
      "    l = 0\n",
      "    while l<n:\n",
      "        c = c*c/2\n",
      "        p = numpy_primes(c)\n",
      "        l = p.size\n",
      "    return p"
     ],
     "language": "python",
     "metadata": {},
     "outputs": [],
     "prompt_number": 17
    },
    {
     "cell_type": "code",
     "collapsed": false,
     "input": [
      "t1p=10001\n",
      "primes(t1p)[t1p-1]"
     ],
     "language": "python",
     "metadata": {},
     "outputs": [
      {
       "metadata": {},
       "output_type": "pyout",
       "prompt_number": 18,
       "text": [
        "104743"
       ]
      }
     ],
     "prompt_number": 18
    },
    {
     "cell_type": "code",
     "collapsed": false,
     "input": [
      "%timeit primes(t1p)[t1p-1]"
     ],
     "language": "python",
     "metadata": {},
     "outputs": [
      {
       "output_type": "stream",
       "stream": "stdout",
       "text": [
        "1 loops, best of 3: 592 ms per loop\n"
       ]
      }
     ],
     "prompt_number": 21
    },
    {
     "cell_type": "code",
     "collapsed": false,
     "input": [
      "def get_primes(n):\n",
      "    numbers = [True] * n\n",
      "    for i in xrange(3,int(n ** 0.5)+1,2):\n",
      "        if numbers[i]:\n",
      "            numbers[i * i::2 * i] = [False] * ((n-i * i-1)/(2 * i)+1)\n",
      "    return [2]+[i for i in xrange(3,n,2) if numbers[i]]"
     ],
     "language": "python",
     "metadata": {},
     "outputs": [],
     "prompt_number": 401
    },
    {
     "cell_type": "code",
     "collapsed": false,
     "input": [
      "get_primes(n)[10000]"
     ],
     "language": "python",
     "metadata": {},
     "outputs": [
      {
       "metadata": {},
       "output_type": "pyout",
       "prompt_number": 402,
       "text": [
        "104743"
       ]
      }
     ],
     "prompt_number": 402
    },
    {
     "cell_type": "code",
     "collapsed": false,
     "input": [
      "%timeit get_primes(n)[10000]"
     ],
     "language": "python",
     "metadata": {},
     "outputs": [
      {
       "output_type": "stream",
       "stream": "stdout",
       "text": [
        "100 loops, best of 3: 2.96 ms per loop\n"
       ]
      }
     ],
     "prompt_number": 403
    },
    {
     "cell_type": "code",
     "collapsed": false,
     "input": [
      "%timeit rwh_primes(n)[10000]"
     ],
     "language": "python",
     "metadata": {},
     "outputs": [
      {
       "output_type": "stream",
       "stream": "stdout",
       "text": [
        "100 loops, best of 3: 2.98 ms per loop\n"
       ]
      }
     ],
     "prompt_number": 399
    },
    {
     "cell_type": "code",
     "collapsed": false,
     "input": [
      "#import psyco; psyco.full()\n",
      "from math import sqrt, ceil\n",
      "import numpy as np\n",
      "\n",
      "def rwh_primes(n):\n",
      "    # http://stackoverflow.com/questions/2068372/fastest-way-to-list-all-primes-below-n-in-python/3035188#3035188\n",
      "    \"\"\" Returns  a list of primes < n \"\"\"\n",
      "    sieve = [True] * n\n",
      "    for i in xrange(3,int(n**0.5)+1,2):\n",
      "        if sieve[i]:\n",
      "            sieve[i*i::2*i]=[False]*((n-i*i-1)/(2*i)+1)\n",
      "    return [2] + [i for i in xrange(3,n,2) if sieve[i]]\n",
      "\n",
      "def rwh_primes1(n):\n",
      "    # http://stackoverflow.com/questions/2068372/fastest-way-to-list-all-primes-below-n-in-python/3035188#3035188\n",
      "    \"\"\" Returns  a list of primes < n \"\"\"\n",
      "    sieve = [True] * (n/2)\n",
      "    for i in xrange(3,int(n**0.5)+1,2):\n",
      "        if sieve[i/2]:\n",
      "            sieve[i*i/2::i] = [False] * ((n-i*i-1)/(2*i)+1)\n",
      "    return [2] + [2*i+1 for i in xrange(1,n/2) if sieve[i]]\n",
      "\n",
      "def rwh_primes2(n):\n",
      "    # http://stackoverflow.com/questions/2068372/fastest-way-to-list-all-primes-below-n-in-python/3035188#3035188\n",
      "    \"\"\" Input n>=6, Returns a list of primes, 2 <= p < n \"\"\"\n",
      "    correction = (n%6>1)\n",
      "    n = {0:n,1:n-1,2:n+4,3:n+3,4:n+2,5:n+1}[n%6]\n",
      "    sieve = [True] * (n/3)\n",
      "    sieve[0] = False\n",
      "    for i in xrange(int(n**0.5)/3+1):\n",
      "      if sieve[i]:\n",
      "        k=3*i+1|1\n",
      "        sieve[      ((k*k)/3)      ::2*k]=[False]*((n/6-(k*k)/6-1)/k+1)\n",
      "        sieve[(k*k+4*k-2*k*(i&1))/3::2*k]=[False]*((n/6-(k*k+4*k-2*k*(i&1))/6-1)/k+1)\n",
      "    return [2,3] + [3*i+1|1 for i in xrange(1,n/3-correction) if sieve[i]]\n",
      "\n",
      "def sieve_wheel_30(N):\n",
      "    # http://zerovolt.com/?p=88\n",
      "    ''' Returns a list of primes <= N using wheel criterion 2*3*5 = 30\n",
      "\n",
      "Copyright 2009 by zerovolt.com\n",
      "This code is free for non-commercial purposes, in which case you can just leave this comment as a credit for my work.\n",
      "If you need this code for commercial purposes, please contact me by sending an email to: info [at] zerovolt [dot] com.'''\n",
      "    __smallp = ( 2, 3, 5, 7, 11, 13, 17, 19, 23, 29, 31, 37, 41, 43, 47, 53, 59,\n",
      "    61, 67, 71, 73, 79, 83, 89, 97, 101, 103, 107, 109, 113, 127, 131, 137, 139,\n",
      "    149, 151, 157, 163, 167, 173, 179, 181, 191, 193, 197, 199, 211, 223, 227,\n",
      "    229, 233, 239, 241, 251, 257, 263, 269, 271, 277, 281, 283, 293, 307, 311,\n",
      "    313, 317, 331, 337, 347, 349, 353, 359, 367, 373, 379, 383, 389, 397, 401,\n",
      "    409, 419, 421, 431, 433, 439, 443, 449, 457, 461, 463, 467, 479, 487, 491,\n",
      "    499, 503, 509, 521, 523, 541, 547, 557, 563, 569, 571, 577, 587, 593, 599,\n",
      "    601, 607, 613, 617, 619, 631, 641, 643, 647, 653, 659, 661, 673, 677, 683,\n",
      "    691, 701, 709, 719, 727, 733, 739, 743, 751, 757, 761, 769, 773, 787, 797,\n",
      "    809, 811, 821, 823, 827, 829, 839, 853, 857, 859, 863, 877, 881, 883, 887,\n",
      "    907, 911, 919, 929, 937, 941, 947, 953, 967, 971, 977, 983, 991, 997)\n",
      "\n",
      "    wheel = (2, 3, 5)\n",
      "    const = 30\n",
      "    if N < 2:\n",
      "        return []\n",
      "    if N <= const:\n",
      "        pos = 0\n",
      "        while __smallp[pos] <= N:\n",
      "            pos += 1\n",
      "        return list(__smallp[:pos])\n",
      "    # make the offsets list\n",
      "    offsets = (7, 11, 13, 17, 19, 23, 29, 1)\n",
      "    # prepare the list\n",
      "    p = [2, 3, 5]\n",
      "    dim = 2 + N // const\n",
      "    tk1  = [True] * dim\n",
      "    tk7  = [True] * dim\n",
      "    tk11 = [True] * dim\n",
      "    tk13 = [True] * dim\n",
      "    tk17 = [True] * dim\n",
      "    tk19 = [True] * dim\n",
      "    tk23 = [True] * dim\n",
      "    tk29 = [True] * dim\n",
      "    tk1[0] = False\n",
      "    # help dictionary d\n",
      "    # d[a , b] = c  ==> if I want to find the smallest useful multiple of (30*pos)+a\n",
      "    # on tkc, then I need the index given by the product of [(30*pos)+a][(30*pos)+b]\n",
      "    # in general. If b < a, I need [(30*pos)+a][(30*(pos+1))+b]\n",
      "    d = {}\n",
      "    for x in offsets:\n",
      "        for y in offsets:\n",
      "            res = (x*y) % const\n",
      "            if res in offsets:\n",
      "                d[(x, res)] = y\n",
      "    # another help dictionary: gives tkx calling tmptk[x]\n",
      "    tmptk = {1:tk1, 7:tk7, 11:tk11, 13:tk13, 17:tk17, 19:tk19, 23:tk23, 29:tk29}\n",
      "    pos, prime, lastadded, stop = 0, 0, 0, int(ceil(sqrt(N)))\n",
      "    # inner functions definition\n",
      "    def del_mult(tk, start, step):\n",
      "        for k in xrange(start, len(tk), step):\n",
      "            tk[k] = False\n",
      "    # end of inner functions definition\n",
      "    cpos = const * pos\n",
      "    while prime < stop:\n",
      "        # 30k + 7\n",
      "        if tk7[pos]:\n",
      "            prime = cpos + 7\n",
      "            p.append(prime)\n",
      "            lastadded = 7\n",
      "            for off in offsets:\n",
      "                tmp = d[(7, off)]\n",
      "                start = (pos + prime) if off == 7 else (prime * (const * (pos + 1 if tmp < 7 else 0) + tmp) )//const\n",
      "                del_mult(tmptk[off], start, prime)\n",
      "        # 30k + 11\n",
      "        if tk11[pos]:\n",
      "            prime = cpos + 11\n",
      "            p.append(prime)\n",
      "            lastadded = 11\n",
      "            for off in offsets:\n",
      "                tmp = d[(11, off)]\n",
      "                start = (pos + prime) if off == 11 else (prime * (const * (pos + 1 if tmp < 11 else 0) + tmp) )//const\n",
      "                del_mult(tmptk[off], start, prime)\n",
      "        # 30k + 13\n",
      "        if tk13[pos]:\n",
      "            prime = cpos + 13\n",
      "            p.append(prime)\n",
      "            lastadded = 13\n",
      "            for off in offsets:\n",
      "                tmp = d[(13, off)]\n",
      "                start = (pos + prime) if off == 13 else (prime * (const * (pos + 1 if tmp < 13 else 0) + tmp) )//const\n",
      "                del_mult(tmptk[off], start, prime)\n",
      "        # 30k + 17\n",
      "        if tk17[pos]:\n",
      "            prime = cpos + 17\n",
      "            p.append(prime)\n",
      "            lastadded = 17\n",
      "            for off in offsets:\n",
      "                tmp = d[(17, off)]\n",
      "                start = (pos + prime) if off == 17 else (prime * (const * (pos + 1 if tmp < 17 else 0) + tmp) )//const\n",
      "                del_mult(tmptk[off], start, prime)\n",
      "        # 30k + 19\n",
      "        if tk19[pos]:\n",
      "            prime = cpos + 19\n",
      "            p.append(prime)\n",
      "            lastadded = 19\n",
      "            for off in offsets:\n",
      "                tmp = d[(19, off)]\n",
      "                start = (pos + prime) if off == 19 else (prime * (const * (pos + 1 if tmp < 19 else 0) + tmp) )//const\n",
      "                del_mult(tmptk[off], start, prime)\n",
      "        # 30k + 23\n",
      "        if tk23[pos]:\n",
      "            prime = cpos + 23\n",
      "            p.append(prime)\n",
      "            lastadded = 23\n",
      "            for off in offsets:\n",
      "                tmp = d[(23, off)]\n",
      "                start = (pos + prime) if off == 23 else (prime * (const * (pos + 1 if tmp < 23 else 0) + tmp) )//const\n",
      "                del_mult(tmptk[off], start, prime)\n",
      "        # 30k + 29\n",
      "        if tk29[pos]:\n",
      "            prime = cpos + 29\n",
      "            p.append(prime)\n",
      "            lastadded = 29\n",
      "            for off in offsets:\n",
      "                tmp = d[(29, off)]\n",
      "                start = (pos + prime) if off == 29 else (prime * (const * (pos + 1 if tmp < 29 else 0) + tmp) )//const\n",
      "                del_mult(tmptk[off], start, prime)\n",
      "        # now we go back to top tk1, so we need to increase pos by 1\n",
      "        pos += 1\n",
      "        cpos = const * pos\n",
      "        # 30k + 1\n",
      "        if tk1[pos]:\n",
      "            prime = cpos + 1\n",
      "            p.append(prime)\n",
      "            lastadded = 1\n",
      "            for off in offsets:\n",
      "                tmp = d[(1, off)]\n",
      "                start = (pos + prime) if off == 1 else (prime * (const * pos + tmp) )//const\n",
      "                del_mult(tmptk[off], start, prime)\n",
      "    # time to add remaining primes\n",
      "    # if lastadded == 1, remove last element and start adding them from tk1\n",
      "    # this way we don't need an \"if\" within the last while\n",
      "    if lastadded == 1:\n",
      "        p.pop()\n",
      "    # now complete for every other possible prime\n",
      "    while pos < len(tk1):\n",
      "        cpos = const * pos\n",
      "        if tk1[pos]: p.append(cpos + 1)\n",
      "        if tk7[pos]: p.append(cpos + 7)\n",
      "        if tk11[pos]: p.append(cpos + 11)\n",
      "        if tk13[pos]: p.append(cpos + 13)\n",
      "        if tk17[pos]: p.append(cpos + 17)\n",
      "        if tk19[pos]: p.append(cpos + 19)\n",
      "        if tk23[pos]: p.append(cpos + 23)\n",
      "        if tk29[pos]: p.append(cpos + 29)\n",
      "        pos += 1\n",
      "    # remove exceeding if present\n",
      "    pos = len(p) - 1\n",
      "    while p[pos] > N:\n",
      "        pos -= 1\n",
      "    if pos < len(p) - 1:\n",
      "        del p[pos+1:]\n",
      "    # return p list\n",
      "    return p\n",
      "\n",
      "def sieveOfEratosthenes(n):\n",
      "    \"\"\"sieveOfEratosthenes(n): return the list of the primes < n.\"\"\"\n",
      "    # Code from: <dickinsm@gmail.com>, Nov 30 2006\n",
      "    # http://groups.google.com/group/comp.lang.python/msg/f1f10ced88c68c2d\n",
      "    if n <= 2:\n",
      "        return []\n",
      "    sieve = range(3, n, 2)\n",
      "    top = len(sieve)\n",
      "    for si in sieve:\n",
      "        if si:\n",
      "            bottom = (si*si - 3) // 2\n",
      "            if bottom >= top:\n",
      "                break\n",
      "            sieve[bottom::si] = [0] * -((bottom - top) // si)\n",
      "    return [2] + [el for el in sieve if el]\n",
      "\n",
      "def sieveOfAtkin(end):\n",
      "    \"\"\"sieveOfAtkin(end): return a list of all the prime numbers <end\n",
      "    using the Sieve of Atkin.\"\"\"\n",
      "    # Code by Steve Krenzel, <Sgk284@gmail.com>, improved\n",
      "    # Code: http://krenzel.info/?p=83\n",
      "    # Info: http://en.wikipedia.org/wiki/Sieve_of_Atkin\n",
      "    assert end > 0\n",
      "    lng = ((end-1) // 2)\n",
      "    sieve = [False] * (lng + 1)\n",
      "\n",
      "    x_max, x2, xd = int(sqrt((end-1)/4.0)), 0, 4\n",
      "    for xd in xrange(4, 8*x_max + 2, 8):\n",
      "        x2 += xd\n",
      "        y_max = int(sqrt(end-x2))\n",
      "        n, n_diff = x2 + y_max*y_max, (y_max << 1) - 1\n",
      "        if not (n & 1):\n",
      "            n -= n_diff\n",
      "            n_diff -= 2\n",
      "        for d in xrange((n_diff - 1) << 1, -1, -8):\n",
      "            m = n % 12\n",
      "            if m == 1 or m == 5:\n",
      "                m = n >> 1\n",
      "                sieve[m] = not sieve[m]\n",
      "            n -= d\n",
      "\n",
      "    x_max, x2, xd = int(sqrt((end-1) / 3.0)), 0, 3\n",
      "    for xd in xrange(3, 6 * x_max + 2, 6):\n",
      "        x2 += xd\n",
      "        y_max = int(sqrt(end-x2))\n",
      "        n, n_diff = x2 + y_max*y_max, (y_max << 1) - 1\n",
      "        if not(n & 1):\n",
      "            n -= n_diff\n",
      "            n_diff -= 2\n",
      "        for d in xrange((n_diff - 1) << 1, -1, -8):\n",
      "            if n % 12 == 7:\n",
      "                m = n >> 1\n",
      "                sieve[m] = not sieve[m]\n",
      "            n -= d\n",
      "\n",
      "    x_max, y_min, x2, xd = int((2 + sqrt(4-8*(1-end)))/4), -1, 0, 3\n",
      "    for x in xrange(1, x_max + 1):\n",
      "        x2 += xd\n",
      "        xd += 6\n",
      "        if x2 >= end: y_min = (((int(ceil(sqrt(x2 - end))) - 1) << 1) - 2) << 1\n",
      "        n, n_diff = ((x*x + x) << 1) - 1, (((x-1) << 1) - 2) << 1\n",
      "        for d in xrange(n_diff, y_min, -8):\n",
      "            if n % 12 == 11:\n",
      "                m = n >> 1\n",
      "                sieve[m] = not sieve[m]\n",
      "            n += d\n",
      "\n",
      "    primes = [2, 3]\n",
      "    if end <= 3:\n",
      "        return primes[:max(0,end-2)]\n",
      "\n",
      "    for n in xrange(5 >> 1, (int(sqrt(end))+1) >> 1):\n",
      "        if sieve[n]:\n",
      "            primes.append((n << 1) + 1)\n",
      "            aux = (n << 1) + 1\n",
      "            aux *= aux\n",
      "            for k in xrange(aux, end, 2 * aux):\n",
      "                sieve[k >> 1] = False\n",
      "\n",
      "    s  = int(sqrt(end)) + 1\n",
      "    if s  % 2 == 0:\n",
      "        s += 1\n",
      "    primes.extend([i for i in xrange(s, end, 2) if sieve[i >> 1]])\n",
      "\n",
      "    return primes\n",
      "\n",
      "def ambi_sieve_plain(n):\n",
      "    s = range(3, n, 2)\n",
      "    for m in xrange(3, int(n**0.5)+1, 2): \n",
      "        if s[(m-3)/2]: \n",
      "            for t in xrange((m*m-3)/2,(n>>1)-1,m):\n",
      "                s[t]=0\n",
      "    return [2]+[t for t in s if t>0]\n",
      "\n",
      "def sundaram3(max_n):\n",
      "    # http://stackoverflow.com/questions/2068372/fastest-way-to-list-all-primes-below-n-in-python/2073279#2073279\n",
      "    numbers = range(3, max_n+1, 2)\n",
      "    half = (max_n)//2\n",
      "    initial = 4\n",
      "\n",
      "    for step in xrange(3, max_n+1, 2):\n",
      "        for i in xrange(initial, half, step):\n",
      "            numbers[i-1] = 0\n",
      "        initial += 2*(step+1)\n",
      "\n",
      "        if initial > half:\n",
      "            return [2] + filter(None, numbers)\n",
      "\n",
      "################################################################################\n",
      "# Using Numpy:\n",
      "def ambi_sieve(n):\n",
      "    # http://tommih.blogspot.com/2009/04/fast-prime-number-generator.html\n",
      "    s = np.arange(3, n, 2)\n",
      "    for m in xrange(3, int(n ** 0.5)+1, 2): \n",
      "        if s[(m-3)/2]: \n",
      "            s[(m*m-3)/2::m]=0\n",
      "    return np.r_[2, s[s>0]]\n",
      "\n",
      "def primesfrom3to(n):\n",
      "    # http://stackoverflow.com/questions/2068372/fastest-way-to-list-all-primes-below-n-in-python/3035188#3035188\n",
      "    \"\"\" Returns a array of primes, p < n \"\"\"\n",
      "    assert n>=2\n",
      "    sieve = np.ones(n/2, dtype=np.bool)\n",
      "    for i in xrange(3,int(n**0.5)+1,2):\n",
      "        if sieve[i/2]:\n",
      "            sieve[i*i/2::i] = False\n",
      "    return np.r_[2, 2*np.nonzero(sieve)[0][1::]+1]    \n",
      "\n",
      "def primesfrom2to(n):\n",
      "    # http://stackoverflow.com/questions/2068372/fastest-way-to-list-all-primes-below-n-in-python/3035188#3035188\n",
      "    \"\"\" Input n>=6, Returns a array of primes, 2 <= p < n \"\"\"\n",
      "    sieve = np.ones(n/3 + (n%6==2), dtype=np.bool)\n",
      "    sieve[0] = False\n",
      "    for i in xrange(int(n**0.5)/3+1):\n",
      "        if sieve[i]:\n",
      "            k=3*i+1|1\n",
      "            sieve[      ((k*k)/3)      ::2*k] = False\n",
      "            sieve[(k*k+4*k-2*k*(i&1))/3::2*k] = False\n",
      "    return np.r_[2,3,((3*np.nonzero(sieve)[0]+1)|1)]"
     ],
     "language": "python",
     "metadata": {},
     "outputs": [],
     "prompt_number": 367
    },
    {
     "cell_type": "code",
     "collapsed": false,
     "input": [
      "n=105000"
     ],
     "language": "python",
     "metadata": {},
     "outputs": [],
     "prompt_number": 21
    },
    {
     "cell_type": "code",
     "collapsed": false,
     "input": [
      "sieveOfEratosthenes(n)[10000]"
     ],
     "language": "python",
     "metadata": {},
     "outputs": [
      {
       "metadata": {},
       "output_type": "pyout",
       "prompt_number": 23,
       "text": [
        "104743"
       ]
      }
     ],
     "prompt_number": 23
    },
    {
     "cell_type": "code",
     "collapsed": false,
     "input": [
      "%timeit sieveOfEratosthenes(n)[10000]"
     ],
     "language": "python",
     "metadata": {},
     "outputs": [
      {
       "output_type": "stream",
       "stream": "stdout",
       "text": [
        "100 loops, best of 3: 3.34 ms per loop\n"
       ]
      }
     ],
     "prompt_number": 45
    },
    {
     "cell_type": "code",
     "collapsed": false,
     "input": [
      "ambi_sieve(n)[10000]"
     ],
     "language": "python",
     "metadata": {},
     "outputs": [
      {
       "metadata": {},
       "output_type": "pyout",
       "prompt_number": 28,
       "text": [
        "104743"
       ]
      }
     ],
     "prompt_number": 28
    },
    {
     "cell_type": "code",
     "collapsed": false,
     "input": [
      "%timeit ambi_sieve(n)[10000]"
     ],
     "language": "python",
     "metadata": {},
     "outputs": [
      {
       "output_type": "stream",
       "stream": "stdout",
       "text": [
        "1000 loops, best of 3: 742 \u00b5s per loop\n"
       ]
      }
     ],
     "prompt_number": 25
    },
    {
     "cell_type": "code",
     "collapsed": false,
     "input": [
      "ambi_sieve_plain(n)[10000]"
     ],
     "language": "python",
     "metadata": {},
     "outputs": [
      {
       "metadata": {},
       "output_type": "pyout",
       "prompt_number": 29,
       "text": [
        "104743"
       ]
      }
     ],
     "prompt_number": 29
    },
    {
     "cell_type": "code",
     "collapsed": false,
     "input": [
      "%timeit ambi_sieve_plain(n)[10000]"
     ],
     "language": "python",
     "metadata": {},
     "outputs": [
      {
       "output_type": "stream",
       "stream": "stdout",
       "text": [
        "100 loops, best of 3: 6.14 ms per loop\n"
       ]
      }
     ],
     "prompt_number": 31
    },
    {
     "cell_type": "code",
     "collapsed": false,
     "input": [
      "sundaram3(n)[10000]"
     ],
     "language": "python",
     "metadata": {},
     "outputs": [
      {
       "metadata": {},
       "output_type": "pyout",
       "prompt_number": 32,
       "text": [
        "104743"
       ]
      }
     ],
     "prompt_number": 32
    },
    {
     "cell_type": "code",
     "collapsed": false,
     "input": [
      "%timeit sundaram3(n)[10000]"
     ],
     "language": "python",
     "metadata": {},
     "outputs": [
      {
       "output_type": "stream",
       "stream": "stdout",
       "text": [
        "100 loops, best of 3: 8.35 ms per loop\n"
       ]
      }
     ],
     "prompt_number": 33
    },
    {
     "cell_type": "code",
     "collapsed": false,
     "input": [
      "sieve_wheel_30(n)[10000]"
     ],
     "language": "python",
     "metadata": {},
     "outputs": [
      {
       "metadata": {},
       "output_type": "pyout",
       "prompt_number": 34,
       "text": [
        "104743"
       ]
      }
     ],
     "prompt_number": 34
    },
    {
     "cell_type": "code",
     "collapsed": false,
     "input": [
      "%timeit sieve_wheel_30(n)[10000]"
     ],
     "language": "python",
     "metadata": {},
     "outputs": [
      {
       "output_type": "stream",
       "stream": "stdout",
       "text": [
        "100 loops, best of 3: 3.73 ms per loop\n"
       ]
      }
     ],
     "prompt_number": 35
    },
    {
     "cell_type": "code",
     "collapsed": false,
     "input": [
      "primesfrom3to(n)[10000]"
     ],
     "language": "python",
     "metadata": {},
     "outputs": [
      {
       "metadata": {},
       "output_type": "pyout",
       "prompt_number": 36,
       "text": [
        "104743"
       ]
      }
     ],
     "prompt_number": 36
    },
    {
     "cell_type": "code",
     "collapsed": false,
     "input": [
      "%timeit primesfrom3to(n)[10000]"
     ],
     "language": "python",
     "metadata": {},
     "outputs": [
      {
       "output_type": "stream",
       "stream": "stdout",
       "text": [
        "1000 loops, best of 3: 581 \u00b5s per loop\n"
       ]
      }
     ],
     "prompt_number": 419
    },
    {
     "cell_type": "code",
     "collapsed": false,
     "input": [
      "primesfrom2to(n)[10000]"
     ],
     "language": "python",
     "metadata": {},
     "outputs": [
      {
       "metadata": {},
       "output_type": "pyout",
       "prompt_number": 38,
       "text": [
        "104743"
       ]
      }
     ],
     "prompt_number": 38
    },
    {
     "cell_type": "code",
     "collapsed": false,
     "input": [
      "%timeit primesfrom2to(n)[10000]"
     ],
     "language": "python",
     "metadata": {},
     "outputs": [
      {
       "output_type": "stream",
       "stream": "stdout",
       "text": [
        "1000 loops, best of 3: 667 \u00b5s per loop\n"
       ]
      }
     ],
     "prompt_number": 420
    },
    {
     "cell_type": "code",
     "collapsed": false,
     "input": [
      "rwh_primes(n)[10000]"
     ],
     "language": "python",
     "metadata": {},
     "outputs": [
      {
       "metadata": {},
       "output_type": "pyout",
       "prompt_number": 40,
       "text": [
        "104743"
       ]
      }
     ],
     "prompt_number": 40
    },
    {
     "cell_type": "code",
     "collapsed": false,
     "input": [
      "%timeit rwh_primes(n)[10000]"
     ],
     "language": "python",
     "metadata": {},
     "outputs": [
      {
       "output_type": "stream",
       "stream": "stdout",
       "text": [
        "100 loops, best of 3: 2.94 ms per loop\n"
       ]
      }
     ],
     "prompt_number": 41
    },
    {
     "cell_type": "code",
     "collapsed": false,
     "input": [
      "rwh_primes1(n)[10000]"
     ],
     "language": "python",
     "metadata": {},
     "outputs": [
      {
       "metadata": {},
       "output_type": "pyout",
       "prompt_number": 42,
       "text": [
        "104743"
       ]
      }
     ],
     "prompt_number": 42
    },
    {
     "cell_type": "code",
     "collapsed": false,
     "input": [
      "%timeit rwh_primes2(n)[10000]"
     ],
     "language": "python",
     "metadata": {},
     "outputs": [
      {
       "output_type": "stream",
       "stream": "stdout",
       "text": [
        "100 loops, best of 3: 2.42 ms per loop\n"
       ]
      }
     ],
     "prompt_number": 43
    },
    {
     "cell_type": "code",
     "collapsed": false,
     "input": [
      "rwh_primes2(n)[10000]"
     ],
     "language": "python",
     "metadata": {},
     "outputs": [
      {
       "metadata": {},
       "output_type": "pyout",
       "prompt_number": 44,
       "text": [
        "104743"
       ]
      }
     ],
     "prompt_number": 44
    },
    {
     "cell_type": "code",
     "collapsed": false,
     "input": [
      "%timeit rwh_primes2(n)[10000]"
     ],
     "language": "python",
     "metadata": {},
     "outputs": [
      {
       "output_type": "stream",
       "stream": "stdout",
       "text": [
        "100 loops, best of 3: 2.44 ms per loop\n"
       ]
      }
     ],
     "prompt_number": 24
    },
    {
     "cell_type": "code",
     "collapsed": false,
     "input": [
      "def divisors(n):\n",
      "    return [j for j in xrange(1,n+1) if n%j == 0]"
     ],
     "language": "python",
     "metadata": {},
     "outputs": [],
     "prompt_number": 2
    },
    {
     "cell_type": "code",
     "collapsed": false,
     "input": [
      "def product(nums):\n",
      "    return reduce(operator.mul, nums)"
     ],
     "language": "python",
     "metadata": {},
     "outputs": [],
     "prompt_number": 8
    },
    {
     "cell_type": "code",
     "collapsed": false,
     "input": [
      "def factorial(n):\n",
      "    return 1 if n==0 else product(xrange(1,n+1))"
     ],
     "language": "python",
     "metadata": {},
     "outputs": [],
     "prompt_number": 102
    },
    {
     "cell_type": "code",
     "collapsed": false,
     "input": [
      "def triangles(n):\n",
      "    return 1 if n in (0,1) else product(xrange(n,n+2))/2"
     ],
     "language": "python",
     "metadata": {},
     "outputs": [],
     "prompt_number": 6
    },
    {
     "cell_type": "code",
     "collapsed": false,
     "input": [
      "def over_divisors(n, start=0, step=1):\n",
      "    if n == 0: return 0\n",
      "    if n < 0: return None\n",
      "    last = start\n",
      "    triangle = triangles(last)\n",
      "    divs = len(divisors(triangle))\n",
      "    while divs <= n:\n",
      "        time.sleep(0)\n",
      "        if step > 1 and done:\n",
      "            return last,triangle,divs\n",
      "        last += step\n",
      "        triangle = triangles(last)\n",
      "        divs = len(divisors(triangle))\n",
      "    return last,triangle,divs"
     ],
     "language": "python",
     "metadata": {},
     "outputs": [],
     "prompt_number": 104
    },
    {
     "cell_type": "code",
     "collapsed": false,
     "input": [
      "#rc.shutdown()\n",
      "len(rc)"
     ],
     "language": "python",
     "metadata": {},
     "outputs": [
      {
       "metadata": {},
       "output_type": "pyout",
       "prompt_number": 105,
       "text": [
        "31"
       ]
      }
     ],
     "prompt_number": 105
    },
    {
     "cell_type": "code",
     "collapsed": false,
     "input": [
      "%px print 'hello'"
     ],
     "language": "python",
     "metadata": {},
     "outputs": [
      {
       "output_type": "stream",
       "stream": "stdout",
       "text": [
        "[stdout:0] hello\n",
        "[stdout:1] hello\n",
        "[stdout:2] hello\n",
        "[stdout:3] hello\n",
        "[stdout:4] hello\n",
        "[stdout:5] hello\n",
        "[stdout:6] hello\n",
        "[stdout:7] hello\n",
        "[stdout:8] hello\n",
        "[stdout:9] hello\n",
        "[stdout:10] hello\n",
        "[stdout:11] hello\n",
        "[stdout:12] hello\n",
        "[stdout:13] hello\n",
        "[stdout:14] hello\n",
        "[stdout:15] hello\n",
        "[stdout:16] hello\n",
        "[stdout:17] hello\n",
        "[stdout:18] hello\n",
        "[stdout:19] hello\n",
        "[stdout:20] hello\n",
        "[stdout:21] hello\n",
        "[stdout:22] hello\n",
        "[stdout:23] hello\n",
        "[stdout:24] hello\n",
        "[stdout:25] hello\n",
        "[stdout:26] hello\n",
        "[stdout:27] hello\n",
        "[stdout:28] hello\n",
        "[stdout:29] hello\n",
        "[stdout:30] hello\n"
       ]
      }
     ],
     "prompt_number": 106
    },
    {
     "cell_type": "code",
     "collapsed": false,
     "input": [
      "methods = {'product':product,\n",
      "           'divisors':divisors,\n",
      "           'triangles':triangles,\n",
      "           'over_divisors':over_divisors,\n",
      "           'primes':primes}\n",
      "rc.update(methods).get(1)"
     ],
     "language": "python",
     "metadata": {},
     "outputs": [
      {
       "metadata": {},
       "output_type": "pyout",
       "prompt_number": 107,
       "text": [
        "[None,\n",
        " None,\n",
        " None,\n",
        " None,\n",
        " None,\n",
        " None,\n",
        " None,\n",
        " None,\n",
        " None,\n",
        " None,\n",
        " None,\n",
        " None,\n",
        " None,\n",
        " None,\n",
        " None,\n",
        " None,\n",
        " None,\n",
        " None,\n",
        " None,\n",
        " None,\n",
        " None,\n",
        " None,\n",
        " None,\n",
        " None,\n",
        " None,\n",
        " None,\n",
        " None,\n",
        " None,\n",
        " None,\n",
        " None,\n",
        " None]"
       ]
      }
     ],
     "prompt_number": 107
    },
    {
     "cell_type": "code",
     "collapsed": false,
     "input": [
      "t1 = datetime.datetime.now()\n",
      "print 'start time = {0}'.format(t1)\n",
      "print over_divisors(100)\n",
      "print 'end time = {0}'.format(datetime.datetime.now()-t1)"
     ],
     "language": "python",
     "metadata": {},
     "outputs": [
      {
       "output_type": "stream",
       "stream": "stdout",
       "text": [
        "start time = 2014-02-03 12:00:27.230324\n",
        "(384, 73920, 112)"
       ]
      },
      {
       "output_type": "stream",
       "stream": "stdout",
       "text": [
        "\n",
        "end time = 0:00:00.554721\n"
       ]
      }
     ],
     "prompt_number": 108
    },
    {
     "cell_type": "code",
     "collapsed": false,
     "input": [
      "def returnar(ar):\n",
      "    t1 = datetime.datetime.now()\n",
      "    print 'start time = {0}'.format(t1)\n",
      "    while not ar.ready():\n",
      "        if ar.progress:\n",
      "            rc['done'] = True\n",
      "        ar.wait(360)\n",
      "        print 'runtime = {0}'.format(datetime.datetime.now()-t1)\n",
      "    print 'end time = {0}'.format(datetime.datetime.now()-t1)\n",
      "    return ar.get()\n",
      "def number_divisors(dv,n):\n",
      "    dv['done'] = False\n",
      "    lrc = len(dv)\n",
      "    dv_nd = dv.map(over_divisors,[n]*lrc,range(lrc),[lrc]*lrc)\n",
      "    thread1 = threading.Thread(target=returnar,args=[rc_nd])\n",
      "    thread1.start()\n",
      "    return dv_nd"
     ],
     "language": "python",
     "metadata": {},
     "outputs": [],
     "prompt_number": 116
    },
    {
     "cell_type": "code",
     "collapsed": false,
     "input": [
      "rc_nd = number_divisors(rc,100)"
     ],
     "language": "python",
     "metadata": {},
     "outputs": [
      {
       "output_type": "stream",
       "stream": "stdout",
       "text": [
        "start time = 2014-02-03 12:18:56.250613\n"
       ]
      }
     ],
     "prompt_number": 117
    },
    {
     "cell_type": "code",
     "collapsed": false,
     "input": [
      "if rc_nd.ready():\n",
      "    pprint.pprint(rc_nd.get())\n",
      "else:\n",
      "    print rc_nd.progress"
     ],
     "language": "python",
     "metadata": {},
     "outputs": [
      {
       "output_type": "stream",
       "stream": "stdout",
       "text": [
        "runtime = 0:00:09.992103\n",
        "end time = 0:00:09.992210\n",
        "["
       ]
      },
      {
       "output_type": "stream",
       "stream": "stdout",
       "text": [
        "(1364, 930930, 128),\n",
        " (1520, 1155960, 144),\n",
        " (560, 157080, 128),\n",
        " (1088, 592416, 108),\n",
        " (2484, 3086370, 128),\n",
        " (935, 437580, 144),\n",
        " (440, 97020, 108),\n",
        " (3200, 5121600, 168),\n",
        " (2240, 2509920, 192),\n",
        " (1280, 819840, 128),\n",
        " (1715, 1471470, 128),\n",
        " (2925, 4279275, 144),\n",
        " (384, 73920, 112),\n",
        " (1904, 1813560, 128),\n",
        " (944, 446040, 128),\n",
        " (1224, 749700, 162),\n",
        " (1287, 828828, 144),\n",
        " (575, 165600, 108),\n",
        " (1599, 1279200, 144),\n",
        " (1104, 609960, 128),\n",
        " (1539, 1185030, 160),\n",
        " (1664, 1385280, 168),\n",
        " (735, 270480, 120),\n",
        " (1728, 1493856, 192),\n",
        " (1295, 839160, 160),\n",
        " (1575, 1241100, 108),\n",
        " (1700, 1445850, 144),\n",
        " (1484, 1101870, 128),\n",
        " (896, 401856, 112),\n",
        " (1455, 1059240, 128),\n",
        " (1952, 1906128, 120)]\n"
       ]
      }
     ],
     "prompt_number": 118
    },
    {
     "cell_type": "code",
     "collapsed": false,
     "input": [
      "t1 = datetime.datetime.now()\n",
      "print 'start time = {0}'.format(t1)\n",
      "print over_divisors(200)\n",
      "print 'end time = {0}'.format(datetime.datetime.now()-t1)"
     ],
     "language": "python",
     "metadata": {},
     "outputs": [
      {
       "output_type": "stream",
       "stream": "stdout",
       "text": [
        "start time = 2014-02-03 12:27:14.371696\n",
        "(2015, 2031120, 240)"
       ]
      },
      {
       "output_type": "stream",
       "stream": "stdout",
       "text": [
        "\n",
        "end time = 0:01:36.626034\n"
       ]
      }
     ],
     "prompt_number": 121
    },
    {
     "cell_type": "code",
     "collapsed": false,
     "input": [
      "rc_nd = number_divisors(rc,500)"
     ],
     "language": "python",
     "metadata": {},
     "outputs": [
      {
       "output_type": "stream",
       "stream": "stdout",
       "text": [
        "start time = 2014-02-03 12:32:23.218407\n"
       ]
      }
     ],
     "prompt_number": 124
    },
    {
     "cell_type": "code",
     "collapsed": false,
     "input": [
      "rc_nd.get() if rc_nd.ready() else rc_nd.progress"
     ],
     "language": "python",
     "metadata": {},
     "outputs": [
      {
       "metadata": {},
       "output_type": "pyout",
       "prompt_number": 136,
       "text": [
        "[(27404, 375503310, 512),\n",
        " (35775, 639943200, 576),\n",
        " (49664, 1233281280, 576),\n",
        " (36800, 677138400, 576),\n",
        " (21735, 236215980, 768),\n",
        " (54999, 1512472500, 600),\n",
        " (12375, 76576500, 576),\n",
        " (25024, 313112800, 576),\n",
        " (31535, 497243880, 512),\n",
        " (25584, 327283320, 512),\n",
        " (30855, 476030940, 576),\n",
        " (55935, 1564390080, 672),\n",
        " (28160, 396506880, 576),\n",
        " (39104, 764580960, 576),\n",
        " (37400, 699398700, 576),\n",
        " (14399, 103672800, 648),\n",
        " (25839, 333839880, 640),\n",
        " (32319, 522275040, 576),\n",
        " (22400, 250891200, 504),\n",
        " (51975, 1350726300, 576),\n",
        " (27455, 376902240, 576),\n",
        " (16575, 137373600, 576),\n",
        " (18095, 163723560, 512),\n",
        " (30744, 472612140, 576),\n",
        " (34775, 604667700, 576),\n",
        " (17199, 147911400, 576),\n",
        " (29600, 438094800, 720),\n",
        " (20735, 214980480, 640),\n",
        " (25200, 317532600, 576),\n",
        " (26999, 364486500, 576),\n",
        " (31464, 495007380, 576)]"
       ]
      }
     ],
     "prompt_number": 136
    },
    {
     "cell_type": "heading",
     "level": 4,
     "metadata": {},
     "source": [
      "Problem 6\n",
      "\n",
      "Sum of the numbers squared minus the sum of the square of each number for the numbers from 1 through 100"
     ]
    },
    {
     "cell_type": "code",
     "collapsed": false,
     "input": [
      "sum(xrange(1,101))**2 - sum(i**2 for i in xrange(1,101))"
     ],
     "language": "python",
     "metadata": {},
     "outputs": [
      {
       "metadata": {},
       "output_type": "pyout",
       "prompt_number": 2,
       "text": [
        "25164150"
       ]
      }
     ],
     "prompt_number": 2
    },
    {
     "cell_type": "heading",
     "level": 4,
     "metadata": {},
     "source": [
      "Problem 7\n",
      "\n",
      "By listing the first six prime numbers: 2, 3, 5, 7, 11, and 13, we can see that the 6th prime is 13.\n",
      "\n",
      "What is the 10 001st prime number?"
     ]
    },
    {
     "cell_type": "raw",
     "metadata": {},
     "source": [
      "IMPLEMENTED:\n",
      "Primes > 2 and 3 are 6k plus or minus 1\n",
      "\n",
      "TODO:\n",
      "c#k + i where i is the composite primes < c# and c# = the product of the composite primes of c\n",
      "for c=6 c#=2*3*5=30"
     ]
    },
    {
     "cell_type": "code",
     "collapsed": false,
     "input": [
      "for count, n in enumerate(primes()):\n",
      "    if count == 10000:\n",
      "        print n\n",
      "        break"
     ],
     "language": "python",
     "metadata": {},
     "outputs": [
      {
       "output_type": "stream",
       "stream": "stdout",
       "text": [
        "104743\n"
       ]
      }
     ],
     "prompt_number": 63
    },
    {
     "cell_type": "code",
     "collapsed": false,
     "input": [
      "isPrime.primes[-1],len(isPrime.primes)"
     ],
     "language": "python",
     "metadata": {},
     "outputs": [
      {
       "metadata": {},
       "output_type": "pyout",
       "prompt_number": 72,
       "text": [
        "(104743, 10001)"
       ]
      }
     ],
     "prompt_number": 72
    },
    {
     "cell_type": "markdown",
     "metadata": {},
     "source": [
      "<h4>Problem 8</h4>\n",
      "\n",
      "Find the greatest product of five consecutive digits in the 1000-digit number.\n",
      "<pre>\n",
      "73167176531330624919225119674426574742355349194934\n",
      "96983520312774506326239578318016984801869478851843\n",
      "85861560789112949495459501737958331952853208805511\n",
      "12540698747158523863050715693290963295227443043557\n",
      "66896648950445244523161731856403098711121722383113\n",
      "62229893423380308135336276614282806444486645238749\n",
      "30358907296290491560440772390713810515859307960866\n",
      "70172427121883998797908792274921901699720888093776\n",
      "65727333001053367881220235421809751254540594752243\n",
      "52584907711670556013604839586446706324415722155397\n",
      "53697817977846174064955149290862569321978468622482\n",
      "83972241375657056057490261407972968652414535100474\n",
      "82166370484403199890008895243450658541227588666881\n",
      "16427171479924442928230863465674813919123162824586\n",
      "17866458359124566529476545682848912883142607690042\n",
      "24219022671055626321111109370544217506941658960408\n",
      "07198403850962455444362981230987879927244284909188\n",
      "84580156166097919133875499200524063689912560717606\n",
      "05886116467109405077541002256983155200055935729725\n",
      "71636269561882670428252483600823257530420752963450\n",
      "</pre>"
     ]
    },
    {
     "cell_type": "code",
     "collapsed": false,
     "input": [
      "rc.apply_sync(product,xrange(1,20))"
     ],
     "language": "python",
     "metadata": {},
     "outputs": [
      {
       "metadata": {},
       "output_type": "pyout",
       "prompt_number": 50,
       "text": [
        "<AsyncResult: product>"
       ]
      }
     ],
     "prompt_number": 50
    },
    {
     "cell_type": "code",
     "collapsed": false,
     "input": [
      "num = ''.join('''\n",
      "73167176531330624919225119674426574742355349194934\n",
      "96983520312774506326239578318016984801869478851843\n",
      "85861560789112949495459501737958331952853208805511\n",
      "12540698747158523863050715693290963295227443043557\n",
      "66896648950445244523161731856403098711121722383113\n",
      "62229893423380308135336276614282806444486645238749\n",
      "30358907296290491560440772390713810515859307960866\n",
      "70172427121883998797908792274921901699720888093776\n",
      "65727333001053367881220235421809751254540594752243\n",
      "52584907711670556013604839586446706324415722155397\n",
      "53697817977846174064955149290862569321978468622482\n",
      "83972241375657056057490261407972968652414535100474\n",
      "82166370484403199890008895243450658541227588666881\n",
      "16427171479924442928230863465674813919123162824586\n",
      "17866458359124566529476545682848912883142607690042\n",
      "24219022671055626321111109370544217506941658960408\n",
      "07198403850962455444362981230987879927244284909188\n",
      "84580156166097919133875499200524063689912560717606\n",
      "05886116467109405077541002256983155200055935729725\n",
      "71636269561882670428252483600823257530420752963450\n",
      "'''.split())\n",
      "digits = frozenset(tuple(sorted(int(a) for a in num[b:b+5])) for b in xrange(len(num)-5) if '0' not in num[b:b+5])\n",
      "max((product(list(i)),list(i)) for i in digits)"
     ],
     "language": "python",
     "metadata": {},
     "outputs": [
      {
       "metadata": {},
       "output_type": "pyout",
       "prompt_number": 10,
       "text": [
        "(40824, [7, 8, 9, 9, 9])"
       ]
      }
     ],
     "prompt_number": 10
    },
    {
     "cell_type": "markdown",
     "metadata": {},
     "source": [
      "<h4>Problem 9</h4>\n",
      "\n",
      "A Pythagorean triplet is a set of three natural numbers, a < b < c, for which,\n",
      "\n",
      "a2 + b2 = c2\n",
      "For example, 32 + 42 = 9 + 16 = 25 = 52.\n",
      "\n",
      "There exists exactly one Pythagorean triplet for which a + b + c = 1000.\n",
      "Find the product abc."
     ]
    },
    {
     "cell_type": "code",
     "collapsed": false,
     "input": [
      "possibles = frozenset(tuple(sorted([a,b,1000-(a+b)])) for a in xrange(1,999) for b in xrange(1,999-a) if a < b < 1000-(a+b))\n",
      "triplet = [[x,y,z] for x,y,z in possibles if x**2 + y**2 == z**2][0]\n",
      "product(triplet)"
     ],
     "language": "python",
     "metadata": {},
     "outputs": [
      {
       "metadata": {},
       "output_type": "pyout",
       "prompt_number": 74,
       "text": [
        "31875000"
       ]
      }
     ],
     "prompt_number": 74
    },
    {
     "cell_type": "markdown",
     "metadata": {},
     "source": [
      "<h4>Problem 10</h4>\n",
      "\n",
      "The sum of the primes below 10 is 2 + 3 + 5 + 7 = 17.\n",
      "\n",
      "Find the sum of all the primes below two million."
     ]
    },
    {
     "cell_type": "code",
     "collapsed": false,
     "input": [
      "%timeit -n 1 sum(itertools.takewhile(lambda x:x<2000000,primes()))"
     ],
     "language": "python",
     "metadata": {},
     "outputs": [
      {
       "ename": "NameError",
       "evalue": "name 'primes' is not defined",
       "output_type": "pyerr",
       "traceback": [
        "\u001b[1;31m---------------------------------------------------------------------------\u001b[0m\n\u001b[1;31mNameError\u001b[0m                                 Traceback (most recent call last)",
        "\u001b[1;32m<ipython-input-67-4a88d0bcc861>\u001b[0m in \u001b[0;36m<module>\u001b[1;34m()\u001b[0m\n\u001b[1;32m----> 1\u001b[1;33m \u001b[0msum\u001b[0m\u001b[1;33m(\u001b[0m\u001b[0mitertools\u001b[0m\u001b[1;33m.\u001b[0m\u001b[0mtakewhile\u001b[0m\u001b[1;33m(\u001b[0m\u001b[1;32mlambda\u001b[0m \u001b[0mx\u001b[0m\u001b[1;33m:\u001b[0m\u001b[0mx\u001b[0m\u001b[1;33m<\u001b[0m\u001b[1;36m2000000\u001b[0m\u001b[1;33m,\u001b[0m\u001b[0mprimes\u001b[0m\u001b[1;33m(\u001b[0m\u001b[1;33m)\u001b[0m\u001b[1;33m)\u001b[0m\u001b[1;33m)\u001b[0m\u001b[1;33m\u001b[0m\u001b[0m\n\u001b[0m",
        "\u001b[1;31mNameError\u001b[0m: name 'primes' is not defined"
       ]
      }
     ],
     "prompt_number": 67
    },
    {
     "cell_type": "markdown",
     "metadata": {},
     "source": [
      "#### Problem 11\n",
      "\n",
      "In the 20\u00d720 grid below, four numbers along a diagonal line have been marked in red.\n",
      "\n",
      "<style>\n",
      "code strong {color:red;}\n",
      "</style>\n",
      "<code>\n",
      "08 02 22 97 38 15 00 40 00 75 04 05 07 78 52 12 50 77 91 08\n",
      "49 49 99 40 17 81 18 57 60 87 17 40 98 43 69 48 04 56 62 00\n",
      "81 49 31 73 55 79 14 29 93 71 40 67 53 88 30 03 49 13 36 65\n",
      "52 70 95 23 04 60 11 42 69 24 68 56 01 32 56 71 37 02 36 91\n",
      "22 31 16 71 51 67 63 89 41 92 36 54 22 40 40 28 66 33 13 80\n",
      "24 47 32 60 99 03 45 02 44 75 33 53 78 36 84 20 35 17 12 50\n",
      "32 98 81 28 64 23 67 10 **26** 38 40 67 59 54 70 66 18 38 64 70\n",
      "67 26 20 68 02 62 12 20 95 **63** 94 39 63 08 40 91 66 49 94 21\n",
      "24 55 58 05 66 73 99 26 97 17 **78** 78 96 83 14 88 34 89 63 72\n",
      "21 36 23 09 75 00 76 44 20 45 35 **14** 00 61 33 97 34 31 33 95\n",
      "78 17 53 28 22 75 31 67 15 94 03 80 04 62 16 14 09 53 56 92\n",
      "16 39 05 42 96 35 31 47 55 58 88 24 00 17 54 24 36 29 85 57\n",
      "86 56 00 48 35 71 89 07 05 44 44 37 44 60 21 58 51 54 17 58\n",
      "19 80 81 68 05 94 47 69 28 73 92 13 86 52 17 77 04 89 55 40\n",
      "04 52 08 83 97 35 99 16 07 97 57 32 16 26 26 79 33 27 98 66\n",
      "88 36 68 87 57 62 20 72 03 46 33 67 46 55 12 32 63 93 53 69\n",
      "04 42 16 73 38 25 39 11 24 94 72 18 08 46 29 32 40 62 76 36\n",
      "20 69 36 41 72 30 23 88 34 62 99 69 82 67 59 85 74 04 36 16\n",
      "20 73 35 29 78 31 90 01 74 31 49 71 48 86 81 16 23 57 05 54\n",
      "01 70 54 71 83 51 54 69 16 92 33 48 61 43 52 01 89 19 67 48\n",
      "</code>\n",
      "\n",
      "The product of these numbers is 26 \u00d7 63 \u00d7 78 \u00d7 14 = 1788696.\n",
      "\n",
      "What is the greatest product of four adjacent numbers in the same direction (up, down, left, right, or diagonally) in the 20\u00d720 grid?"
     ]
    },
    {
     "cell_type": "code",
     "collapsed": false,
     "input": [
      "def product(it):\n",
      "    return numpy.array(it).prod()"
     ],
     "language": "python",
     "metadata": {},
     "outputs": [],
     "prompt_number": 460
    },
    {
     "cell_type": "code",
     "collapsed": false,
     "input": [
      "grid = [int(i) for i in '''\n",
      "08 02 22 97 38 15 00 40 00 75 04 05 07 78 52 12 50 77 91 08\n",
      "49 49 99 40 17 81 18 57 60 87 17 40 98 43 69 48 04 56 62 00\n",
      "81 49 31 73 55 79 14 29 93 71 40 67 53 88 30 03 49 13 36 65\n",
      "52 70 95 23 04 60 11 42 69 24 68 56 01 32 56 71 37 02 36 91\n",
      "22 31 16 71 51 67 63 89 41 92 36 54 22 40 40 28 66 33 13 80\n",
      "24 47 32 60 99 03 45 02 44 75 33 53 78 36 84 20 35 17 12 50\n",
      "32 98 81 28 64 23 67 10 26 38 40 67 59 54 70 66 18 38 64 70\n",
      "67 26 20 68 02 62 12 20 95 63 94 39 63 08 40 91 66 49 94 21\n",
      "24 55 58 05 66 73 99 26 97 17 78 78 96 83 14 88 34 89 63 72\n",
      "21 36 23 09 75 00 76 44 20 45 35 14 00 61 33 97 34 31 33 95\n",
      "78 17 53 28 22 75 31 67 15 94 03 80 04 62 16 14 09 53 56 92\n",
      "16 39 05 42 96 35 31 47 55 58 88 24 00 17 54 24 36 29 85 57\n",
      "86 56 00 48 35 71 89 07 05 44 44 37 44 60 21 58 51 54 17 58\n",
      "19 80 81 68 05 94 47 69 28 73 92 13 86 52 17 77 04 89 55 40\n",
      "04 52 08 83 97 35 99 16 07 97 57 32 16 26 26 79 33 27 98 66\n",
      "88 36 68 87 57 62 20 72 03 46 33 67 46 55 12 32 63 93 53 69\n",
      "04 42 16 73 38 25 39 11 24 94 72 18 08 46 29 32 40 62 76 36\n",
      "20 69 36 41 72 30 23 88 34 62 99 69 82 67 59 85 74 04 36 16\n",
      "20 73 35 29 78 31 90 01 74 31 49 71 48 86 81 16 23 57 05 54\n",
      "01 70 54 71 83 51 54 69 16 92 33 48 61 43 52 01 89 19 67 48\n",
      "'''.strip().split()]\n",
      "grid_rows = [grid[i:i+20] for i in range(0,20*20,20)]\n",
      "left_right = max(product(row[i:i+4]) for row in grid_rows for i in range(20-3) if 0 not in row[i:i+4])\n",
      "grid_cols = [grid[i::20] for i in range(20)]\n",
      "up_down = max(product(col[i:i+4]) for col in grid_cols for i in range(20-3) if 0 not in col[i:i+4])\n",
      "diagonal_down = [grid[i:j:21] for i,j in [(e,(400-((20*e) if e < 20 else 0))) for e in range(20)+range(20,20*20,20)] if len(grid[i:j:21]) > 3]\n",
      "right_down = max(product(diag[i:i+4]) for diag in diagonal_down for i in range(len(diag)-3) if 0 not in diag[i:i+4])\n",
      "diagonal_up = [grid[i:j:19] for i,j in [(e,((20*e) if e < 20 else 400)) for e in range(19)+range(19,400,20)] if len(grid[i:j:19]) > 3]\n",
      "left_up = max(product(diag[i:i+4]) for diag in diagonal_up for i in range(len(diag)-3) if 0 not in diag[i:i+4])\n",
      "max([left_right,up_down,right_down,left_up])"
     ],
     "language": "python",
     "metadata": {},
     "outputs": [
      {
       "metadata": {},
       "output_type": "pyout",
       "prompt_number": 461,
       "text": [
        "70600674"
       ]
      }
     ],
     "prompt_number": 461
    },
    {
     "cell_type": "code",
     "collapsed": false,
     "input": [
      "grid = [int(i) for i in '''\n",
      "08 02 22 97 38 15 00 40 00 75 04 05 07 78 52 12 50 77 91 08\n",
      "49 49 99 40 17 81 18 57 60 87 17 40 98 43 69 48 04 56 62 00\n",
      "81 49 31 73 55 79 14 29 93 71 40 67 53 88 30 03 49 13 36 65\n",
      "52 70 95 23 04 60 11 42 69 24 68 56 01 32 56 71 37 02 36 91\n",
      "22 31 16 71 51 67 63 89 41 92 36 54 22 40 40 28 66 33 13 80\n",
      "24 47 32 60 99 03 45 02 44 75 33 53 78 36 84 20 35 17 12 50\n",
      "32 98 81 28 64 23 67 10 26 38 40 67 59 54 70 66 18 38 64 70\n",
      "67 26 20 68 02 62 12 20 95 63 94 39 63 08 40 91 66 49 94 21\n",
      "24 55 58 05 66 73 99 26 97 17 78 78 96 83 14 88 34 89 63 72\n",
      "21 36 23 09 75 00 76 44 20 45 35 14 00 61 33 97 34 31 33 95\n",
      "78 17 53 28 22 75 31 67 15 94 03 80 04 62 16 14 09 53 56 92\n",
      "16 39 05 42 96 35 31 47 55 58 88 24 00 17 54 24 36 29 85 57\n",
      "86 56 00 48 35 71 89 07 05 44 44 37 44 60 21 58 51 54 17 58\n",
      "19 80 81 68 05 94 47 69 28 73 92 13 86 52 17 77 04 89 55 40\n",
      "04 52 08 83 97 35 99 16 07 97 57 32 16 26 26 79 33 27 98 66\n",
      "88 36 68 87 57 62 20 72 03 46 33 67 46 55 12 32 63 93 53 69\n",
      "04 42 16 73 38 25 39 11 24 94 72 18 08 46 29 32 40 62 76 36\n",
      "20 69 36 41 72 30 23 88 34 62 99 69 82 67 59 85 74 04 36 16\n",
      "20 73 35 29 78 31 90 01 74 31 49 71 48 86 81 16 23 57 05 54\n",
      "01 70 54 71 83 51 54 69 16 92 33 48 61 43 52 01 89 19 67 48\n",
      "'''.strip().split()]\n",
      "grid_rows = [grid[i:i+20] for i in range(0,20*20,20)]\n",
      "left_right = max(product(row[i:i+4]) for row in grid_rows for i in range(20-3) if 0 not in row[i:i+4])\n",
      "grid_cols = [grid[i::20] for i in range(20)]\n",
      "up_down = max(product(col[i:i+4]) for col in grid_cols for i in range(20-3) if 0 not in col[i:i+4])\n",
      "diagonal_down = [grid[i:j:21] for i,j in [(e,(400-((20*e) if e < 20 else 0))) for e in range(20)+range(20,20*20,20)] if len(grid[i:j:21]) > 3]\n",
      "right_down = max(product(diag[i:i+4]) for diag in diagonal_down for i in range(len(diag)-3) if 0 not in diag[i:i+4])\n",
      "diagonal_up = [grid[i:j:19] for i,j in [(e,((20*e) if e < 20 else 400)) for e in range(19)+range(19,400,20)] if len(grid[i:j:19]) > 3]\n",
      "left_up = max(product(diag[i:i+4]) for diag in diagonal_up for i in range(len(diag)-3) if 0 not in diag[i:i+4])\n",
      "max([left_right,up_down,right_down,left_up])"
     ],
     "language": "python",
     "metadata": {},
     "outputs": []
    },
    {
     "cell_type": "markdown",
     "metadata": {},
     "source": [
      "#### Problem 12\n",
      "\n",
      "The sequence of triangle numbers is generated by adding the natural numbers. So the 7th triangle number would be 1 + 2 + 3 + 4 + 5 + 6 + 7 = 28. The first ten terms would be:\n",
      "\n",
      "1, 3, 6, 10, 15, 21, 28, 36, 45, 55, ...\n",
      "\n",
      "Let us list the factors of the first seven triangle numbers:\n",
      "\n",
      "<code>\n",
      " 1: 1\n",
      " 3: 1,3\n",
      " 6: 1,2,3,6\n",
      "10: 1,2,5,10\n",
      "15: 1,3,5,15\n",
      "21: 1,3,7,21\n",
      "28: 1,2,4,7,14,28\n",
      "</code>\n",
      "\n",
      "We can see that 28 is the first triangle number to have over five divisors.\n",
      "\n",
      "What is the value of the first triangle number to have over five hundred divisors?"
     ]
    },
    {
     "cell_type": "raw",
     "metadata": {},
     "source": [
      "T(a+b)=Ta+Tb+ab\n",
      "T(ab)=TaTb+T(a-1)T(b-1)\n",
      "math.factorial(n+1)/(math.factorial(n-1)*2)\n",
      "sum(i for i,j in zip(triangles(),range(1,n+1))) == (n*(n+1)*(n+2))/6\n"
     ]
    },
    {
     "cell_type": "code",
     "collapsed": false,
     "input": [
      "n = 10"
     ],
     "language": "python",
     "metadata": {},
     "outputs": [],
     "prompt_number": 51
    },
    {
     "cell_type": "code",
     "collapsed": false,
     "input": [
      "%timeit -n 1 sum(triangles(i) for i in xrange(1,n+1))"
     ],
     "language": "python",
     "metadata": {},
     "outputs": [
      {
       "output_type": "stream",
       "stream": "stdout",
       "text": [
        "1 loops, best of 3: 10 \u00b5s per loop\n"
       ]
      }
     ],
     "prompt_number": 56
    },
    {
     "cell_type": "code",
     "collapsed": false,
     "input": [
      "%timeit -n 1 math.factorial(n+2)/(math.factorial(n-1)*6)"
     ],
     "language": "python",
     "metadata": {},
     "outputs": [
      {
       "output_type": "stream",
       "stream": "stdout",
       "text": [
        "1 loops, best of 3: 1.91 \u00b5s per loop\n"
       ]
      }
     ],
     "prompt_number": 41
    },
    {
     "cell_type": "code",
     "collapsed": false,
     "input": [
      "%timeit -n 1 (n*(n+1)*(n+2))/6"
     ],
     "language": "python",
     "metadata": {},
     "outputs": [
      {
       "output_type": "stream",
       "stream": "stdout",
       "text": [
        "1 loops, best of 3: 954 ns per loop\n"
       ]
      }
     ],
     "prompt_number": 42
    },
    {
     "cell_type": "code",
     "collapsed": false,
     "input": [
      "%timeit -n 1 math.factorial(n+1)/(math.factorial(n-1)*2)"
     ],
     "language": "python",
     "metadata": {},
     "outputs": [],
     "prompt_number": 50
    },
    {
     "cell_type": "code",
     "collapsed": false,
     "input": [
      "%timeit -n 1 product(range(n,n+2))/2"
     ],
     "language": "python",
     "metadata": {},
     "outputs": [
      {
       "output_type": "stream",
       "stream": "stdout",
       "text": [
        "1 loops, best of 3: 1.91 \u00b5s per loop\n"
       ]
      }
     ],
     "prompt_number": 48
    },
    {
     "cell_type": "code",
     "collapsed": false,
     "input": [
      "%timeit -n 1 product(xrange(n,n+2))/2"
     ],
     "language": "python",
     "metadata": {},
     "outputs": [
      {
       "output_type": "stream",
       "stream": "stdout",
       "text": [
        "1 loops, best of 3: 1.91 \u00b5s per loop\n"
       ]
      }
     ],
     "prompt_number": 49
    },
    {
     "cell_type": "code",
     "collapsed": false,
     "input": [
      "%timeit -n 1 [math.factorial(j+1)/(math.factorial(j-1)*2) for j in range(1,100)]"
     ],
     "language": "python",
     "metadata": {},
     "outputs": [
      {
       "output_type": "stream",
       "stream": "stdout",
       "text": [
        "1 loops, best of 3: 783 \u00b5s per loop\n"
       ]
      }
     ],
     "prompt_number": 44
    },
    {
     "cell_type": "code",
     "collapsed": false,
     "input": [
      "%timeit -n 1 [i for i,j in zip(triangles(),range(1,100))]"
     ],
     "language": "python",
     "metadata": {},
     "outputs": [],
     "prompt_number": 12
    },
    {
     "cell_type": "code",
     "collapsed": false,
     "input": [
      "[factorial(i) for i in xrange(5)]"
     ],
     "language": "python",
     "metadata": {},
     "outputs": [
      {
       "metadata": {},
       "output_type": "pyout",
       "prompt_number": 10,
       "text": [
        "[1, 1, 2, 6, 24]"
       ]
      }
     ],
     "prompt_number": 10
    },
    {
     "cell_type": "code",
     "collapsed": false,
     "input": [
      "%timeit -n1 [triangles(i) for i in xrange(100)]"
     ],
     "language": "python",
     "metadata": {},
     "outputs": [
      {
       "output_type": "stream",
       "stream": "stdout",
       "text": [
        "1 loops, best of 3: 88.9 \u00b5s per loop\n"
       ]
      }
     ],
     "prompt_number": 20
    },
    {
     "cell_type": "code",
     "collapsed": false,
     "input": [
      "over_divisors(200)"
     ],
     "language": "python",
     "metadata": {},
     "outputs": [
      {
       "metadata": {},
       "output_type": "pyout",
       "prompt_number": 26,
       "text": [
        "2031120"
       ]
      }
     ],
     "prompt_number": 26
    },
    {
     "cell_type": "code",
     "collapsed": false,
     "input": [
      "rc.shutdown()"
     ],
     "language": "python",
     "metadata": {},
     "outputs": [],
     "prompt_number": 105
    },
    {
     "cell_type": "code",
     "collapsed": false,
     "input": [
      "len(divisors(73920)),product(i for i in range(1,101))"
     ],
     "language": "python",
     "metadata": {},
     "outputs": [
      {
       "metadata": {},
       "output_type": "pyout",
       "prompt_number": 90,
       "text": [
        "(112,\n",
        " 93326215443944152681699238856266700490715968264381621468592963895217599993229915608941463976156518286253697920827223758251185210916864000000000000000000000000L)"
       ]
      }
     ],
     "prompt_number": 90
    },
    {
     "cell_type": "code",
     "collapsed": false,
     "input": [
      "[[k,len(v)] for k,v in divisors.divisors.items()]"
     ],
     "language": "python",
     "metadata": {},
     "outputs": [
      {
       "metadata": {},
       "output_type": "pyout",
       "prompt_number": 204,
       "text": [
        "[[131071744000, 192],\n",
        " [2048032000, 288],\n",
        " [127992000, 112],\n",
        " [511984000, 128],\n",
        " [500500, 96],\n",
        " [1999000, 32],\n",
        " [2047968000, 432],\n",
        " [32004000, 288],\n",
        " [32768128000, 176],\n",
        " [499500, 96],\n",
        " [7998000, 160],\n",
        " [8191936000, 160],\n",
        " [128008000, 56],\n",
        " [125250, 32],\n",
        " [131072256000, 1728],\n",
        " [124750, 16],\n",
        " [8002000, 40],\n",
        " [8192064000, 160],\n",
        " [31996000, 96],\n",
        " [32767872000, 176],\n",
        " [2001000, 128],\n",
        " [512016000, 128]]"
       ]
      }
     ],
     "prompt_number": 204
    },
    {
     "cell_type": "code",
     "collapsed": false,
     "input": [
      "divs=divisors(131072256000)"
     ],
     "language": "python",
     "metadata": {},
     "outputs": []
    },
    {
     "cell_type": "code",
     "collapsed": false,
     "input": [
      "len(divs)"
     ],
     "language": "python",
     "metadata": {},
     "outputs": []
    },
    {
     "cell_type": "code",
     "collapsed": false,
     "input": [
      "len(divisors(next(triangles(9))))"
     ],
     "language": "python",
     "metadata": {},
     "outputs": []
    },
    {
     "cell_type": "code",
     "collapsed": false,
     "input": [
      "sum(i for i in isPrime.primes if i < 2000000)"
     ],
     "language": "python",
     "metadata": {},
     "outputs": [
      {
       "metadata": {},
       "output_type": "pyout",
       "prompt_number": 9,
       "text": [
        "11241637063"
       ]
      }
     ],
     "prompt_number": 9
    },
    {
     "cell_type": "code",
     "collapsed": false,
     "input": [
      "sum(range(10000))"
     ],
     "language": "python",
     "metadata": {},
     "outputs": [
      {
       "metadata": {},
       "output_type": "pyout",
       "prompt_number": 7,
       "text": [
        "49995000"
       ]
      }
     ],
     "prompt_number": 7
    },
    {
     "cell_type": "code",
     "collapsed": false,
     "input": [
      "len(divisors(250891200))"
     ],
     "language": "python",
     "metadata": {},
     "outputs": [
      {
       "metadata": {},
       "output_type": "pyout",
       "prompt_number": 4,
       "text": [
        "504"
       ]
      }
     ],
     "prompt_number": 4
    },
    {
     "cell_type": "code",
     "collapsed": false,
     "input": [
      "len(divisors(76576500))"
     ],
     "language": "python",
     "metadata": {},
     "outputs": [
      {
       "metadata": {},
       "output_type": "pyout",
       "prompt_number": 5,
       "text": [
        "576"
       ]
      }
     ],
     "prompt_number": 5
    },
    {
     "cell_type": "code",
     "collapsed": false,
     "input": [
      "triangles(12375)"
     ],
     "language": "python",
     "metadata": {},
     "outputs": [
      {
       "metadata": {},
       "output_type": "pyout",
       "prompt_number": 13,
       "text": [
        "76576500"
       ]
      }
     ],
     "prompt_number": 13
    },
    {
     "cell_type": "code",
     "collapsed": false,
     "input": [],
     "language": "python",
     "metadata": {},
     "outputs": []
    }
   ],
   "metadata": {}
  }
 ]
}