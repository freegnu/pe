{
 "cells": [
  {
   "cell_type": "code",
   "execution_count": 2,
   "metadata": {
    "collapsed": false
   },
   "outputs": [],
   "source": [
    "%alias ijc ijconsole"
   ]
  },
  {
   "cell_type": "code",
   "execution_count": 4,
   "metadata": {
    "collapsed": false
   },
   "outputs": [
    {
     "data": {
      "text/plain": [
       "['6']"
      ]
     },
     "execution_count": 4,
     "metadata": {},
     "output_type": "execute_result"
    }
   ],
   "source": [
    "!!ijconsole -js a=.2 b=.3 \"echo a*b\" \"exit''\""
   ]
  },
  {
   "cell_type": "code",
   "execution_count": 3,
   "metadata": {
    "collapsed": false
   },
   "outputs": [
    {
     "name": "stdout",
     "output_type": "stream",
     "text": [
      "233168\r\n"
     ]
    }
   ],
   "source": [
    "ijc pe1.ijs\n"
   ]
  },
  {
   "cell_type": "code",
   "execution_count": 5,
   "metadata": {
    "collapsed": false
   },
   "outputs": [],
   "source": [
    "%recall"
   ]
  },
  {
   "cell_type": "code",
   "execution_count": 16,
   "metadata": {
    "collapsed": false
   },
   "outputs": [
    {
     "data": {
      "text/plain": [
       "['6']"
      ]
     },
     "execution_count": 16,
     "metadata": {},
     "output_type": "execute_result"
    }
   ],
   "source": [
    "['6']"
   ]
  },
  {
   "cell_type": "code",
   "execution_count": null,
   "metadata": {
    "collapsed": false
   },
   "outputs": [],
   "source": [
    "ijc pe2.ijs"
   ]
  },
  {
   "cell_type": "code",
   "execution_count": 31,
   "metadata": {
    "collapsed": false
   },
   "outputs": [
    {
     "name": "stdout",
     "output_type": "stream",
     "text": [
      "\u001b[?1h\u001b=\u001b[H\u001b[2J\u001b[mtop - 00:25:31 up 143 days, 29 min,  0 users,  load average: 0.35, 0.55, 0.41\u001b[m\u001b[m\u001b[m\u001b[m\u001b[K\n",
      "Tasks:\u001b[m\u001b[m\u001b[1m  77 \u001b[m\u001b[mtotal,\u001b[m\u001b[m\u001b[1m   2 \u001b[m\u001b[mrunning,\u001b[m\u001b[m\u001b[1m  75 \u001b[m\u001b[msleeping,\u001b[m\u001b[m\u001b[1m   0 \u001b[m\u001b[mstopped,\u001b[m\u001b[m\u001b[1m   0 \u001b[m\u001b[mzombie\u001b[m\u001b[m\u001b[m\u001b[m\u001b[K\n",
      "%Cpu(s):\u001b[m\u001b[m\u001b[1m  2.1 \u001b[m\u001b[mus,\u001b[m\u001b[m\u001b[1m  2.4 \u001b[m\u001b[msy,\u001b[m\u001b[m\u001b[1m  0.0 \u001b[m\u001b[mni,\u001b[m\u001b[m\u001b[1m 95.0 \u001b[m\u001b[mid,\u001b[m\u001b[m\u001b[1m  0.0 \u001b[m\u001b[mwa,\u001b[m\u001b[m\u001b[1m  0.0 \u001b[m\u001b[mhi,\u001b[m\u001b[m\u001b[1m  0.4 \u001b[m\u001b[msi,\u001b[m\u001b[m\u001b[1m  0.0 \u001b[m\u001b[mst\u001b[m\u001b[m\u001b[m\u001b[m\u001b[K\n",
      "KiB Mem: \u001b[m\u001b[m\u001b[1m  1017888 \u001b[m\u001b[mtotal,\u001b[m\u001b[m\u001b[1m   617448 \u001b[m\u001b[mused,\u001b[m\u001b[m\u001b[1m   400440 \u001b[m\u001b[mfree,\u001b[m\u001b[m\u001b[1m     8284 \u001b[m\u001b[mbuffers\u001b[m\u001b[m\u001b[m\u001b[m\u001b[K\n",
      "KiB Swap:\u001b[m\u001b[m\u001b[1m        0 \u001b[m\u001b[mtotal,\u001b[m\u001b[m\u001b[1m        0 \u001b[m\u001b[mused,\u001b[m\u001b[m\u001b[1m        0 \u001b[m\u001b[mfree.\u001b[m\u001b[m\u001b[1m    39480 \u001b[m\u001b[mcached Mem\u001b[m\u001b[m\u001b[m\u001b[m\u001b[K\n",
      "\u001b[K\n",
      "\u001b[7m  PID USER      PR  NI    VIRT    RES    SHR S %CPU %MEM     TIME+ COMMAND                                                 \u001b[m\u001b[m\u001b[K\n",
      "\u001b[m24444 freegnu   20   0  855884 104864    748 S 23.8 10.3   2:05.11 /usr/bin/python -c from IPython.kernel.zmq.kernelapp i+ \u001b[m\u001b[m\u001b[K\n",
      "\u001b[m 1919 freegnu   20   0  470372  75036   2940 S  5.9  7.4   7507:21 /usr/bin/python /usr/bin/ipython notebook --profile no+ \u001b[m\u001b[m\u001b[K\n",
      "\u001b[m26146 freegnu   20   0  737512  39292    592 S  5.9  3.9  75:05.95 /usr/bin/python /usr/bin/ipython console --existing ke+ \u001b[m\u001b[m\u001b[K\n",
      "\u001b[m    1 root      20   0   33504   1432     88 S  0.0  0.1   2:49.21 /sbin/init                                              \u001b[m\u001b[m\u001b[K\n",
      "\u001b[m    2 root      20   0       0      0      0 S  0.0  0.0   0:00.00 [kthreadd]                                              \u001b[m\u001b[m\u001b[K\n",
      "\u001b[m    3 root      20   0       0      0      0 S  0.0  0.0   4:58.82 [ksoftirqd/0]                                           \u001b[m\u001b[m\u001b[K\n",
      "\u001b[m    5 root       0 -20       0      0      0 S  0.0  0.0   0:00.00 [kworker/0:0H]                                          \u001b[m\u001b[m\u001b[K\n",
      "\u001b[m\u001b[1m    7 root      20   0       0      0      0 R  0.0  0.0 681:16.33 [rcu_sched]                                             \u001b[m\u001b[m\u001b[K\n",
      "\u001b[m    8 root      20   0       0      0      0 S  0.0  0.0 400:54.54 [rcuos/0]                                               \u001b[m\u001b[m\u001b[K\n",
      "\u001b[m    9 root      20   0       0      0      0 S  0.0  0.0   0:00.00 [rcu_bh]                                                \u001b[m\u001b[m\u001b[K\n",
      "\u001b[m   10 root      20   0       0      0      0 S  0.0  0.0   0:00.00 [rcuob/0]                                               \u001b[m\u001b[m\u001b[K\n",
      "\u001b[m   11 root      rt   0       0      0      0 S  0.0  0.0   0:00.00 [migration/0]                                           \u001b[m\u001b[m\u001b[K\n",
      "\u001b[m   12 root      rt   0       0      0      0 S  0.0  0.0   0:38.38 [watchdog/0]                                            \u001b[m\u001b[m\u001b[K\n",
      "\u001b[m   13 root       0 -20       0      0      0 S  0.0  0.0   0:00.00 [khelper]                                               \u001b[m\u001b[m\u001b[K\n",
      "\u001b[m   14 root      20   0       0      0      0 S  0.0  0.0   0:00.00 [kdevtmpfs]                                             \u001b[m\u001b[m\u001b[K\n",
      "\u001b[m   15 root       0 -20       0      0      0 S  0.0  0.0   0:00.00 [netns]                                                 \u001b[m\u001b[m\u001b[K\n",
      "\u001b[m   16 root       0 -20       0      0      0 S  0.0  0.0   0:00.00 [writeback]                                             \u001b[m\u001b[m\u001b[K\n",
      "\u001b[m   17 root       0 -20       0      0      0 S  0.0  0.0   0:00.00 [kintegrityd]                                           \u001b[m\u001b[m\u001b[K\n",
      "\u001b[m   18 root       0 -20       0      0      0 S  0.0  0.0   0:00.00 [bioset]                                                \u001b[m\u001b[m\u001b[K\u001b[?1l\u001b>\u001b[27;1H\n",
      "\u001b[K"
     ]
    }
   ],
   "source": [
    "!top -n1 -c1"
   ]
  },
  {
   "cell_type": "code",
   "execution_count": null,
   "metadata": {
    "collapsed": false
   },
   "outputs": [],
   "source": []
  }
 ],
 "metadata": {
  "kernelspec": {
   "display_name": "Python 3",
   "language": "python",
   "name": "python3"
  },
  "language_info": {
   "codemirror_mode": {
    "name": "ipython",
    "version": 3
   },
   "file_extension": ".py",
   "mimetype": "text/x-python",
   "name": "python",
   "nbconvert_exporter": "python",
   "pygments_lexer": "ipython3",
   "version": "3.5.2"
  }
 },
 "nbformat": 4,
 "nbformat_minor": 0
}
